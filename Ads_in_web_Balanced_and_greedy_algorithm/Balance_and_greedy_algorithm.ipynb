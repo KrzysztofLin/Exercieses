{
  "cells": [
    {
      "cell_type": "markdown",
      "source": [
        "#Import bibliotek, deklaracja klasy do tworzenia grafów"
      ],
      "metadata": {
        "id": "NwXWkuW9RAkU"
      }
    },
    {
      "cell_type": "code",
      "execution_count": 39,
      "metadata": {
        "id": "TP92xGh-kvxR"
      },
      "outputs": [],
      "source": [
        "import networkx as nx\n",
        "import matplotlib.pyplot as plt\n",
        "from networkx.algorithms import matching\n",
        "import numpy as np"
      ]
    },
    {
      "cell_type": "code",
      "execution_count": 40,
      "metadata": {
        "id": "oICKtAYukvxU"
      },
      "outputs": [],
      "source": [
        "class BipartiteGraph():\n",
        "\n",
        "    def __init__(self, graph, idx):\n",
        "        self.idx = idx\n",
        "        n = len(set().union(*graph.values()))\n",
        "        self.ls = np.zeros((n, len(graph.keys())))\n",
        "        nodes_a = range(n)\n",
        "        for j, nodes_b in enumerate(sorted(graph.keys(), key=lambda x: int(x[1:]))):\n",
        "            for nb in graph[nodes_b]:\n",
        "                self.ls[nb][j] = 1\n",
        "        self.counter = 0\n",
        "\n",
        "    def draw_all_edges(self):\n",
        "        g = nx.Graph()\n",
        "\n",
        "        a = ['a'+str(i) for i in range(len(self.ls))]\n",
        "        b = ['b'+str(j) for j in range(len(self.ls[0]))]\n",
        "\n",
        "        g.add_nodes_from(a, bipartite=0)\n",
        "        g.add_nodes_from(b, bipartite=1)\n",
        "\n",
        "        for i in range(len(self.ls)):\n",
        "            for j in range(len(self.ls[i])):\n",
        "                if self.ls[i][j] != 0:\n",
        "                    g.add_edge(a[i], b[j])\n",
        "\n",
        "        const = 0.1\n",
        "        y = 1.0\n",
        "\n",
        "        x_a = 0.1\n",
        "        pos_a = {}\n",
        "        for i in range(len(a)):\n",
        "            pos_a[a[i]] = [x_a, y - i*const]\n",
        "\n",
        "        x_b = 0.5\n",
        "        pos_b = {}\n",
        "        for i in range(len(b)):\n",
        "            pos_b[b[i]] = [x_b, y - i*const]\n",
        "\n",
        "        nx.draw_networkx_nodes(g, pos_a, nodelist=a, node_color='r', node_size=300)\n",
        "        nx.draw_networkx_nodes(g, pos_b, nodelist=b, node_color='b', node_size=300)\n",
        "\n",
        "        pos = {}\n",
        "        pos.update(pos_a)\n",
        "        pos.update(pos_b)\n",
        "\n",
        "        nx.draw_networkx_edges(g, pos, edgelist=nx.edges(g))\n",
        "        nx.draw_networkx_labels(g, pos, font_size=10, font_family='sans-serif')\n",
        "\n",
        "        # Maximal matching\n",
        "        # m = matching.maximal_matching(g)\n",
        "        # print('Maximal matching has cardinality [', len(m), ']')\n",
        "        # nx.draw_networkx_edges(g, pos, edgelist=m, width=1, edge_color='#CC1559')\n",
        "\n",
        "        plt.axis('off')\n",
        "\n",
        "        plt.savefig('images/bipartite_' + self.idx + '.pdf')\n",
        "        plt.show()\n",
        "        plt.close()\n",
        "\n",
        "    def draw_given_edges(self, m, state='n'):\n",
        "        g = nx.Graph()\n",
        "\n",
        "        a = ['a'+str(i) for i in range(len(self.ls))]\n",
        "        b = ['b'+str(j) for j in range(len(self.ls[0]))]\n",
        "\n",
        "        g.add_nodes_from(a, bipartite=0)\n",
        "        g.add_nodes_from(b, bipartite=1)\n",
        "\n",
        "        const = 0.1\n",
        "        y = 1.0\n",
        "\n",
        "        x_a = 0.1\n",
        "        pos_a = {}\n",
        "        for i in range(len(a)):\n",
        "            pos_a[a[i]] = [x_a, y - i*const]\n",
        "\n",
        "        x_b = 0.5\n",
        "        pos_b = {}\n",
        "        for i in range(len(b)):\n",
        "            pos_b[b[i]] = [x_b, y - i*const]\n",
        "\n",
        "        nx.draw_networkx_nodes(g, pos_a, nodelist=a, node_color='r', node_size=300)\n",
        "        nx.draw_networkx_nodes(g, pos_b, nodelist=b, node_color='b', node_size=300)\n",
        "\n",
        "        pos = {}\n",
        "        pos.update(pos_a)\n",
        "        pos.update(pos_b)\n",
        "\n",
        "        nx.draw_networkx_labels(g, pos, font_size=10, font_family='sans-serif')\n",
        "\n",
        "        nx.draw_networkx_edges(g, pos, edgelist=m, width=1, edge_color='#CC1559')\n",
        "\n",
        "        plt.axis('off')\n",
        "\n",
        "        if state == 'a':\n",
        "            descr = self.idx + str(self.counter)\n",
        "            self.counter = self.counter + 1\n",
        "        else:\n",
        "            descr = self.idx\n",
        "\n",
        "        plt.savefig('images/bipartite_edg_' + descr + '.pdf')\n",
        "        plt.show()\n",
        "        plt.close()"
      ]
    },
    {
      "cell_type": "markdown",
      "source": [
        "#przykładowy graf"
      ],
      "metadata": {
        "id": "ImgfE1TfRKXO"
      }
    },
    {
      "cell_type": "code",
      "source": [
        "graph = { 'b0': {1}, 'b1': {0, 1, 2}, 'b2': {1, 2}, 'b3': {2, 3, 4}, 'b4' : {3 ,4 }, 'b5': {4, 5, 6}, 'b6': {5, 6, 7}, 'b7': {8}}"
      ],
      "metadata": {
        "id": "CltrBc4Qybrn"
      },
      "execution_count": 3,
      "outputs": []
    },
    {
      "cell_type": "code",
      "source": [
        "bg = BipartiteGraph(graph, 'test')\n",
        "bg.draw_all_edges()"
      ],
      "metadata": {
        "id": "heqZNGWNy_A_",
        "colab": {
          "base_uri": "https://localhost:8080/",
          "height": 561
        },
        "outputId": "904b7030-f1c8-47ff-f833-a0c04e55149c"
      },
      "execution_count": 4,
      "outputs": [
        {
          "output_type": "error",
          "ename": "FileNotFoundError",
          "evalue": "ignored",
          "traceback": [
            "\u001b[0;31m---------------------------------------------------------------------------\u001b[0m",
            "\u001b[0;31mFileNotFoundError\u001b[0m                         Traceback (most recent call last)",
            "\u001b[0;32m<ipython-input-4-c195d0f1b00b>\u001b[0m in \u001b[0;36m<module>\u001b[0;34m()\u001b[0m\n\u001b[1;32m      1\u001b[0m \u001b[0mbg\u001b[0m \u001b[0;34m=\u001b[0m \u001b[0mBipartiteGraph\u001b[0m\u001b[0;34m(\u001b[0m\u001b[0mgraph\u001b[0m\u001b[0;34m,\u001b[0m \u001b[0;34m'test'\u001b[0m\u001b[0;34m)\u001b[0m\u001b[0;34m\u001b[0m\u001b[0;34m\u001b[0m\u001b[0m\n\u001b[0;32m----> 2\u001b[0;31m \u001b[0mbg\u001b[0m\u001b[0;34m.\u001b[0m\u001b[0mdraw_all_edges\u001b[0m\u001b[0;34m(\u001b[0m\u001b[0;34m)\u001b[0m\u001b[0;34m\u001b[0m\u001b[0;34m\u001b[0m\u001b[0m\n\u001b[0m",
            "\u001b[0;32m<ipython-input-2-e7b3e9352549>\u001b[0m in \u001b[0;36mdraw_all_edges\u001b[0;34m(self)\u001b[0m\n\u001b[1;32m     55\u001b[0m         \u001b[0mplt\u001b[0m\u001b[0;34m.\u001b[0m\u001b[0maxis\u001b[0m\u001b[0;34m(\u001b[0m\u001b[0;34m'off'\u001b[0m\u001b[0;34m)\u001b[0m\u001b[0;34m\u001b[0m\u001b[0;34m\u001b[0m\u001b[0m\n\u001b[1;32m     56\u001b[0m \u001b[0;34m\u001b[0m\u001b[0m\n\u001b[0;32m---> 57\u001b[0;31m         \u001b[0mplt\u001b[0m\u001b[0;34m.\u001b[0m\u001b[0msavefig\u001b[0m\u001b[0;34m(\u001b[0m\u001b[0;34m'images/bipartite_'\u001b[0m \u001b[0;34m+\u001b[0m \u001b[0mself\u001b[0m\u001b[0;34m.\u001b[0m\u001b[0midx\u001b[0m \u001b[0;34m+\u001b[0m \u001b[0;34m'.pdf'\u001b[0m\u001b[0;34m)\u001b[0m\u001b[0;34m\u001b[0m\u001b[0;34m\u001b[0m\u001b[0m\n\u001b[0m\u001b[1;32m     58\u001b[0m         \u001b[0mplt\u001b[0m\u001b[0;34m.\u001b[0m\u001b[0mshow\u001b[0m\u001b[0;34m(\u001b[0m\u001b[0;34m)\u001b[0m\u001b[0;34m\u001b[0m\u001b[0;34m\u001b[0m\u001b[0m\n\u001b[1;32m     59\u001b[0m         \u001b[0mplt\u001b[0m\u001b[0;34m.\u001b[0m\u001b[0mclose\u001b[0m\u001b[0;34m(\u001b[0m\u001b[0;34m)\u001b[0m\u001b[0;34m\u001b[0m\u001b[0;34m\u001b[0m\u001b[0m\n",
            "\u001b[0;32m/usr/local/lib/python3.7/dist-packages/matplotlib/pyplot.py\u001b[0m in \u001b[0;36msavefig\u001b[0;34m(*args, **kwargs)\u001b[0m\n\u001b[1;32m    721\u001b[0m \u001b[0;32mdef\u001b[0m \u001b[0msavefig\u001b[0m\u001b[0;34m(\u001b[0m\u001b[0;34m*\u001b[0m\u001b[0margs\u001b[0m\u001b[0;34m,\u001b[0m \u001b[0;34m**\u001b[0m\u001b[0mkwargs\u001b[0m\u001b[0;34m)\u001b[0m\u001b[0;34m:\u001b[0m\u001b[0;34m\u001b[0m\u001b[0;34m\u001b[0m\u001b[0m\n\u001b[1;32m    722\u001b[0m     \u001b[0mfig\u001b[0m \u001b[0;34m=\u001b[0m \u001b[0mgcf\u001b[0m\u001b[0;34m(\u001b[0m\u001b[0;34m)\u001b[0m\u001b[0;34m\u001b[0m\u001b[0;34m\u001b[0m\u001b[0m\n\u001b[0;32m--> 723\u001b[0;31m     \u001b[0mres\u001b[0m \u001b[0;34m=\u001b[0m \u001b[0mfig\u001b[0m\u001b[0;34m.\u001b[0m\u001b[0msavefig\u001b[0m\u001b[0;34m(\u001b[0m\u001b[0;34m*\u001b[0m\u001b[0margs\u001b[0m\u001b[0;34m,\u001b[0m \u001b[0;34m**\u001b[0m\u001b[0mkwargs\u001b[0m\u001b[0;34m)\u001b[0m\u001b[0;34m\u001b[0m\u001b[0;34m\u001b[0m\u001b[0m\n\u001b[0m\u001b[1;32m    724\u001b[0m     \u001b[0mfig\u001b[0m\u001b[0;34m.\u001b[0m\u001b[0mcanvas\u001b[0m\u001b[0;34m.\u001b[0m\u001b[0mdraw_idle\u001b[0m\u001b[0;34m(\u001b[0m\u001b[0;34m)\u001b[0m   \u001b[0;31m# need this if 'transparent=True' to reset colors\u001b[0m\u001b[0;34m\u001b[0m\u001b[0;34m\u001b[0m\u001b[0m\n\u001b[1;32m    725\u001b[0m     \u001b[0;32mreturn\u001b[0m \u001b[0mres\u001b[0m\u001b[0;34m\u001b[0m\u001b[0;34m\u001b[0m\u001b[0m\n",
            "\u001b[0;32m/usr/local/lib/python3.7/dist-packages/matplotlib/figure.py\u001b[0m in \u001b[0;36msavefig\u001b[0;34m(self, fname, transparent, **kwargs)\u001b[0m\n\u001b[1;32m   2201\u001b[0m             \u001b[0mself\u001b[0m\u001b[0;34m.\u001b[0m\u001b[0mpatch\u001b[0m\u001b[0;34m.\u001b[0m\u001b[0mset_visible\u001b[0m\u001b[0;34m(\u001b[0m\u001b[0mframeon\u001b[0m\u001b[0;34m)\u001b[0m\u001b[0;34m\u001b[0m\u001b[0;34m\u001b[0m\u001b[0m\n\u001b[1;32m   2202\u001b[0m \u001b[0;34m\u001b[0m\u001b[0m\n\u001b[0;32m-> 2203\u001b[0;31m         \u001b[0mself\u001b[0m\u001b[0;34m.\u001b[0m\u001b[0mcanvas\u001b[0m\u001b[0;34m.\u001b[0m\u001b[0mprint_figure\u001b[0m\u001b[0;34m(\u001b[0m\u001b[0mfname\u001b[0m\u001b[0;34m,\u001b[0m \u001b[0;34m**\u001b[0m\u001b[0mkwargs\u001b[0m\u001b[0;34m)\u001b[0m\u001b[0;34m\u001b[0m\u001b[0;34m\u001b[0m\u001b[0m\n\u001b[0m\u001b[1;32m   2204\u001b[0m \u001b[0;34m\u001b[0m\u001b[0m\n\u001b[1;32m   2205\u001b[0m         \u001b[0;32mif\u001b[0m \u001b[0mframeon\u001b[0m\u001b[0;34m:\u001b[0m\u001b[0;34m\u001b[0m\u001b[0;34m\u001b[0m\u001b[0m\n",
            "\u001b[0;32m/usr/local/lib/python3.7/dist-packages/matplotlib/backend_bases.py\u001b[0m in \u001b[0;36mprint_figure\u001b[0;34m(self, filename, dpi, facecolor, edgecolor, orientation, format, bbox_inches, **kwargs)\u001b[0m\n\u001b[1;32m   2124\u001b[0m                     \u001b[0morientation\u001b[0m\u001b[0;34m=\u001b[0m\u001b[0morientation\u001b[0m\u001b[0;34m,\u001b[0m\u001b[0;34m\u001b[0m\u001b[0;34m\u001b[0m\u001b[0m\n\u001b[1;32m   2125\u001b[0m                     \u001b[0mbbox_inches_restore\u001b[0m\u001b[0;34m=\u001b[0m\u001b[0m_bbox_inches_restore\u001b[0m\u001b[0;34m,\u001b[0m\u001b[0;34m\u001b[0m\u001b[0;34m\u001b[0m\u001b[0m\n\u001b[0;32m-> 2126\u001b[0;31m                     **kwargs)\n\u001b[0m\u001b[1;32m   2127\u001b[0m             \u001b[0;32mfinally\u001b[0m\u001b[0;34m:\u001b[0m\u001b[0;34m\u001b[0m\u001b[0;34m\u001b[0m\u001b[0m\n\u001b[1;32m   2128\u001b[0m                 \u001b[0;32mif\u001b[0m \u001b[0mbbox_inches\u001b[0m \u001b[0;32mand\u001b[0m \u001b[0mrestore_bbox\u001b[0m\u001b[0;34m:\u001b[0m\u001b[0;34m\u001b[0m\u001b[0;34m\u001b[0m\u001b[0m\n",
            "\u001b[0;32m/usr/local/lib/python3.7/dist-packages/matplotlib/backends/backend_pdf.py\u001b[0m in \u001b[0;36mprint_pdf\u001b[0;34m(self, filename, dpi, bbox_inches_restore, metadata, **kwargs)\u001b[0m\n\u001b[1;32m   2539\u001b[0m             \u001b[0mfile\u001b[0m \u001b[0;34m=\u001b[0m \u001b[0mfilename\u001b[0m\u001b[0;34m.\u001b[0m\u001b[0m_file\u001b[0m\u001b[0;34m\u001b[0m\u001b[0;34m\u001b[0m\u001b[0m\n\u001b[1;32m   2540\u001b[0m         \u001b[0;32melse\u001b[0m\u001b[0;34m:\u001b[0m\u001b[0;34m\u001b[0m\u001b[0;34m\u001b[0m\u001b[0m\n\u001b[0;32m-> 2541\u001b[0;31m             \u001b[0mfile\u001b[0m \u001b[0;34m=\u001b[0m \u001b[0mPdfFile\u001b[0m\u001b[0;34m(\u001b[0m\u001b[0mfilename\u001b[0m\u001b[0;34m,\u001b[0m \u001b[0mmetadata\u001b[0m\u001b[0;34m=\u001b[0m\u001b[0mmetadata\u001b[0m\u001b[0;34m)\u001b[0m\u001b[0;34m\u001b[0m\u001b[0;34m\u001b[0m\u001b[0m\n\u001b[0m\u001b[1;32m   2542\u001b[0m         \u001b[0;32mtry\u001b[0m\u001b[0;34m:\u001b[0m\u001b[0;34m\u001b[0m\u001b[0;34m\u001b[0m\u001b[0m\n\u001b[1;32m   2543\u001b[0m             \u001b[0mfile\u001b[0m\u001b[0;34m.\u001b[0m\u001b[0mnewPage\u001b[0m\u001b[0;34m(\u001b[0m\u001b[0mwidth\u001b[0m\u001b[0;34m,\u001b[0m \u001b[0mheight\u001b[0m\u001b[0;34m)\u001b[0m\u001b[0;34m\u001b[0m\u001b[0;34m\u001b[0m\u001b[0m\n",
            "\u001b[0;32m/usr/local/lib/python3.7/dist-packages/matplotlib/backends/backend_pdf.py\u001b[0m in \u001b[0;36m__init__\u001b[0;34m(self, filename, metadata)\u001b[0m\n\u001b[1;32m    457\u001b[0m         \u001b[0mself\u001b[0m\u001b[0;34m.\u001b[0m\u001b[0moriginal_file_like\u001b[0m \u001b[0;34m=\u001b[0m \u001b[0;32mNone\u001b[0m\u001b[0;34m\u001b[0m\u001b[0;34m\u001b[0m\u001b[0m\n\u001b[1;32m    458\u001b[0m         \u001b[0mself\u001b[0m\u001b[0;34m.\u001b[0m\u001b[0mtell_base\u001b[0m \u001b[0;34m=\u001b[0m \u001b[0;36m0\u001b[0m\u001b[0;34m\u001b[0m\u001b[0;34m\u001b[0m\u001b[0m\n\u001b[0;32m--> 459\u001b[0;31m         \u001b[0mfh\u001b[0m\u001b[0;34m,\u001b[0m \u001b[0mopened\u001b[0m \u001b[0;34m=\u001b[0m \u001b[0mcbook\u001b[0m\u001b[0;34m.\u001b[0m\u001b[0mto_filehandle\u001b[0m\u001b[0;34m(\u001b[0m\u001b[0mfilename\u001b[0m\u001b[0;34m,\u001b[0m \u001b[0;34m\"wb\"\u001b[0m\u001b[0;34m,\u001b[0m \u001b[0mreturn_opened\u001b[0m\u001b[0;34m=\u001b[0m\u001b[0;32mTrue\u001b[0m\u001b[0;34m)\u001b[0m\u001b[0;34m\u001b[0m\u001b[0;34m\u001b[0m\u001b[0m\n\u001b[0m\u001b[1;32m    460\u001b[0m         \u001b[0;32mif\u001b[0m \u001b[0;32mnot\u001b[0m \u001b[0mopened\u001b[0m\u001b[0;34m:\u001b[0m\u001b[0;34m\u001b[0m\u001b[0;34m\u001b[0m\u001b[0m\n\u001b[1;32m    461\u001b[0m             \u001b[0;32mtry\u001b[0m\u001b[0;34m:\u001b[0m\u001b[0;34m\u001b[0m\u001b[0;34m\u001b[0m\u001b[0m\n",
            "\u001b[0;32m/usr/local/lib/python3.7/dist-packages/matplotlib/cbook/__init__.py\u001b[0m in \u001b[0;36mto_filehandle\u001b[0;34m(fname, flag, return_opened, encoding)\u001b[0m\n\u001b[1;32m    401\u001b[0m             \u001b[0mfh\u001b[0m \u001b[0;34m=\u001b[0m \u001b[0mbz2\u001b[0m\u001b[0;34m.\u001b[0m\u001b[0mBZ2File\u001b[0m\u001b[0;34m(\u001b[0m\u001b[0mfname\u001b[0m\u001b[0;34m,\u001b[0m \u001b[0mflag\u001b[0m\u001b[0;34m)\u001b[0m\u001b[0;34m\u001b[0m\u001b[0;34m\u001b[0m\u001b[0m\n\u001b[1;32m    402\u001b[0m         \u001b[0;32melse\u001b[0m\u001b[0;34m:\u001b[0m\u001b[0;34m\u001b[0m\u001b[0;34m\u001b[0m\u001b[0m\n\u001b[0;32m--> 403\u001b[0;31m             \u001b[0mfh\u001b[0m \u001b[0;34m=\u001b[0m \u001b[0mopen\u001b[0m\u001b[0;34m(\u001b[0m\u001b[0mfname\u001b[0m\u001b[0;34m,\u001b[0m \u001b[0mflag\u001b[0m\u001b[0;34m,\u001b[0m \u001b[0mencoding\u001b[0m\u001b[0;34m=\u001b[0m\u001b[0mencoding\u001b[0m\u001b[0;34m)\u001b[0m\u001b[0;34m\u001b[0m\u001b[0;34m\u001b[0m\u001b[0m\n\u001b[0m\u001b[1;32m    404\u001b[0m         \u001b[0mopened\u001b[0m \u001b[0;34m=\u001b[0m \u001b[0;32mTrue\u001b[0m\u001b[0;34m\u001b[0m\u001b[0;34m\u001b[0m\u001b[0m\n\u001b[1;32m    405\u001b[0m     \u001b[0;32melif\u001b[0m \u001b[0mhasattr\u001b[0m\u001b[0;34m(\u001b[0m\u001b[0mfname\u001b[0m\u001b[0;34m,\u001b[0m \u001b[0;34m'seek'\u001b[0m\u001b[0;34m)\u001b[0m\u001b[0;34m:\u001b[0m\u001b[0;34m\u001b[0m\u001b[0;34m\u001b[0m\u001b[0m\n",
            "\u001b[0;31mFileNotFoundError\u001b[0m: [Errno 2] No such file or directory: 'images/bipartite_test.pdf'"
          ]
        },
        {
          "output_type": "display_data",
          "data": {
            "text/plain": [
              "<Figure size 432x288 with 1 Axes>"
            ],
            "image/png": "[encoded data removed]"
          },
          "metadata": {}
        }
      ]
    },
    {
      "cell_type": "code",
      "source": [
        "m = [{'b2', 'a5'}, {'b4', 'a1'}]\n",
        "bg.draw_given_edges(m)"
      ],
      "metadata": {
        "id": "h2Nm-AZAzBSu"
      },
      "execution_count": null,
      "outputs": []
    },
    {
      "cell_type": "markdown",
      "source": [
        "#algorytm zachłanny"
      ],
      "metadata": {
        "id": "yPNURCPaR9qr"
      }
    },
    {
      "cell_type": "code",
      "source": [
        "n = 9 \n",
        "advertisers = dict(zip(range(n), [10]*n))\n",
        "graph = {'b0': {0}, 'b1': {0}}"
      ],
      "metadata": {
        "id": "1r8dov1XzUWu"
      },
      "execution_count": 5,
      "outputs": []
    },
    {
      "cell_type": "code",
      "source": [
        "def greedy_matching(queries, graph, advertisers):\n",
        "  edges = []\n",
        "  bg = BipartiteGraph(graph, 'greedy')\n",
        "\n",
        "  graph_2 = graph.copy()\n",
        "  advers = advertisers.copy()\n",
        "  revenue = 0\n",
        "\n",
        "  for q in queries:\n",
        "    bidders = graph_2[q]\n",
        "    if advers[list(bidders)[0]] == 0 and len(bidders) == 1:\n",
        "      continue\n",
        "    else:\n",
        "      for b in bidders:\n",
        "        if advers[b] == 0:\n",
        "          graph_2[q] = graph_2[q].difference([b])\n",
        "        \n",
        "      ad = {k: advers[k] for k in graph_2[q]}\n",
        "      if len(ad) == 0:\n",
        "        break\n",
        "      choosen = list(ad.items())[-1][0]\n",
        "      print(choosen)\n",
        "      advers[choosen] -= 1\n",
        "      revenue += 1\n",
        "      edges.append((q, 'a' + str(choosen)))\n",
        "      m = [(q, 'a' + str(choosen))]\n",
        "      # bg.draw_given_edges(m)\n",
        "  print(f' Total revenue is equal: {revenue}')\n",
        "\n",
        "  return edges"
      ],
      "metadata": {
        "id": "e6pwv-YhzqcG"
      },
      "execution_count": 6,
      "outputs": []
    },
    {
      "cell_type": "code",
      "source": [
        "queries = ['b1', 'b1', 'b1', 'b1', 'b1', 'b0', 'b1', 'b0']   \n",
        "graph = {'b0': {0, 1}, 'b1': {0}}\n",
        "advertisers = {0: 4, 1: 4}\n",
        "\n",
        "greedy_matching(queries, graph, advertisers)"
      ],
      "metadata": {
        "colab": {
          "base_uri": "https://localhost:8080/"
        },
        "id": "PVPgudCySraL",
        "outputId": "b6b7560d-274f-4a74-a587-cdc4e3df147b"
      },
      "execution_count": 7,
      "outputs": [
        {
          "output_type": "stream",
          "name": "stdout",
          "text": [
            "0\n",
            "0\n",
            "0\n",
            "0\n",
            "1\n",
            "1\n",
            " Total revenue is equal: 6\n"
          ]
        },
        {
          "output_type": "execute_result",
          "data": {
            "text/plain": [
              "[('b1', 'a0'),\n",
              " ('b1', 'a0'),\n",
              " ('b1', 'a0'),\n",
              " ('b1', 'a0'),\n",
              " ('b0', 'a1'),\n",
              " ('b0', 'a1')]"
            ]
          },
          "metadata": {},
          "execution_count": 7
        }
      ]
    },
    {
      "cell_type": "markdown",
      "source": [
        "#algorytm zbalansowany"
      ],
      "metadata": {
        "id": "5unIke_c2YwG"
      }
    },
    {
      "cell_type": "code",
      "source": [
        "def balance(queries, graph, advertisers):\n",
        "  edges = []\n",
        "  bg = BipartiteGraph(graph, 'balance')\n",
        "\n",
        "  graph_2 = graph.copy()\n",
        "  advers = advertisers.copy()\n",
        "  revenue = 0 \n",
        "  for q in queries:\n",
        "    bidders = graph_2[q]\n",
        "    for b in bidders:\n",
        "      if advers[b] == 0:\n",
        "        graph_2[q] = graph_2[q].difference([b])\n",
        "    ad = {k: advers[k] for k in graph_2[q]}\n",
        "    print(ad)\n",
        "    if len(ad) == 0:\n",
        "      break\n",
        "    choosen = sorted(ad.items(), key = lambda x: x[1])[-1][0]\n",
        "    print(choosen)\n",
        "    advers[choosen] -= 1\n",
        "    revenue += 1\n",
        "    edges.append((q, 'a' + str(choosen)))\n",
        "    m = [(q, 'a' + str(choosen))]\n",
        "    #bg.draw_given_edges(m)\n",
        "  #print(f' Total revenue is equal: {revenue}')\n",
        "  return edges      "
      ],
      "metadata": {
        "id": "wAnzvfhB2YGX"
      },
      "execution_count": 8,
      "outputs": []
    },
    {
      "cell_type": "code",
      "source": [
        "queries = ['b0', 'b0', 'b0', 'b0', 'b1', 'b1', 'b1', 'b2']   # to są słowa kluczowe\n",
        "graph = {'b0': {0, 1}, 'b1': {0}}\n",
        "advertisers = {0: 4, 1: 4}\n",
        "ctr = {'b0': 0.01, 'b1': 0.02, 'b2': 0.025}\n",
        "\n",
        "balance(queries, graph, advertisers)"
      ],
      "metadata": {
        "colab": {
          "base_uri": "https://localhost:8080/"
        },
        "id": "uF4Jto0o49je",
        "outputId": "5b6c9e33-016b-4f8c-a928-e8310db0627a"
      },
      "execution_count": 9,
      "outputs": [
        {
          "output_type": "stream",
          "name": "stdout",
          "text": [
            "{0: 4, 1: 4}\n",
            "1\n",
            "{0: 4, 1: 3}\n",
            "0\n",
            "{0: 3, 1: 3}\n",
            "1\n",
            "{0: 3, 1: 2}\n",
            "0\n",
            "{0: 2}\n",
            "0\n",
            "{0: 1}\n",
            "0\n",
            "{}\n"
          ]
        },
        {
          "output_type": "execute_result",
          "data": {
            "text/plain": [
              "[('b0', 'a1'),\n",
              " ('b0', 'a0'),\n",
              " ('b0', 'a1'),\n",
              " ('b0', 'a0'),\n",
              " ('b1', 'a0'),\n",
              " ('b1', 'a0')]"
            ]
          },
          "metadata": {},
          "execution_count": 9
        }
      ]
    },
    {
      "cell_type": "markdown",
      "metadata": {
        "id": "DWFVdWfNkvxY"
      },
      "source": [
        "# Homework - zbalansowany algorytm z bid"
      ]
    },
    {
      "cell_type": "code",
      "execution_count": null,
      "metadata": {
        "id": "IM_-0jIakvxZ"
      },
      "outputs": [],
      "source": [
        "def balance_algorithm_var(queries, advertisers, graph):\n",
        "    # BALANCE algorithm for different bids & value of bids on vertex\n",
        "    edges = []\n",
        "    return edges"
      ]
    },
    {
      "cell_type": "code",
      "source": [
        "def balance_ctr(queries, graph, advertisers, bid, ctr):\n",
        "  edges = []\n",
        "  bg = BipartiteGraph(graph, 'balance')\n",
        "\n",
        "  graph_2 = graph.copy()\n",
        "  advers = advertisers.copy()\n",
        "  revenue = 0 \n",
        "  for q in queries:\n",
        "    bidders = graph_2[q]\n",
        "    if advers[list(bidders)[0]] == 0 and len(bidders) == 1:\n",
        "      continue\n",
        "    else:\n",
        "      for b in bidders:\n",
        "        if advers[b] == 0:\n",
        "          graph_2[q] = graph_2[q].difference([b])\n",
        "      ad = {k: advers[k] for k in graph_2[q]}\n",
        "      bid_ctr = {k: bid[k]*ctr[q] for k in graph_2[q]}\n",
        "      #print(bid_ctr)\n",
        "      if len(ad) == 0:\n",
        "        break\n",
        "      choosen = sorted(bid_ctr.items(), key = lambda x: x[1])[-1][0]\n",
        "      #choosen = sorted(ad.items(), key = lambda x: x[1])[-1][0]\n",
        "      advers[choosen] -= bid_ctr[choosen]\n",
        "      print(advers)\n",
        "      revenue += bid_ctr[choosen]\n",
        "      edges.append((q, 'a' + str(choosen)))\n",
        "      m = [(q, 'a' + str(choosen))]\n",
        "      #bg.draw_given_edges(m)\n",
        "  print(f' Total revenue is equal: {revenue}')\n",
        "  return edges    "
      ],
      "metadata": {
        "id": "2pNkDs8QDD5L"
      },
      "execution_count": 42,
      "outputs": []
    },
    {
      "cell_type": "code",
      "execution_count": 43,
      "metadata": {
        "id": "YURTKCGgkvxa",
        "colab": {
          "base_uri": "https://localhost:8080/"
        },
        "outputId": "0d5d8849-2011-4ca6-e0e5-8e6ca60f4a87"
      },
      "outputs": [
        {
          "output_type": "stream",
          "name": "stdout",
          "text": [
            "{0: 4, 1: 3.5}\n",
            "{0: 4, 1: 3.0}\n",
            "{0: 4, 1: 2.5}\n",
            "{0: 4, 1: 2.0}\n",
            "{0: 3.5, 1: 2.0}\n",
            "{0: 3.0, 1: 2.0}\n",
            "{0: 2.5, 1: 2.0}\n",
            "{0: 2.5, 1: 1.5}\n",
            " Total revenue is equal: 4.0\n"
          ]
        },
        {
          "output_type": "execute_result",
          "data": {
            "text/plain": [
              "[('b0', 'a1'),\n",
              " ('b0', 'a1'),\n",
              " ('b0', 'a1'),\n",
              " ('b0', 'a1'),\n",
              " ('b1', 'a0'),\n",
              " ('b1', 'a0'),\n",
              " ('b1', 'a0'),\n",
              " ('b0', 'a1')]"
            ]
          },
          "metadata": {},
          "execution_count": 43
        }
      ],
      "source": [
        "queries = ['b0', 'b0', 'b0', 'b0', 'b1', 'b1', 'b1', 'b0']   # to są słowa kluczowe\n",
        "graph = {'b0': {0, 1}, 'b1': {0}}\n",
        "advertisers = {0: 4, 1: 4}\n",
        "bid = {0: 0.5, 1: 1}\n",
        "ctr = {'b0': 0.5, 'b1': 1}\n",
        "\n",
        "balance_ctr(queries, graph, advertisers, bid, ctr)\n"
      ]
    }
  ],
  "metadata": {
    "kernelspec": {
      "display_name": "Python 2",
      "language": "python",
      "name": "python2"
    },
    "language_info": {
      "codemirror_mode": {
        "name": "ipython",
        "version": 2
      },
      "file_extension": ".py",
      "mimetype": "text/x-python",
      "name": "python",
      "nbconvert_exporter": "python",
      "pygments_lexer": "ipython2",
      "version": "2.7.14"
    },
    "colab": {
      "name": "EMBZ_16H_Balance.ipynb",
      "provenance": [],
      "collapsed_sections": []
    }
  },
  "nbformat": 4,
  "nbformat_minor": 0
}