{
 "metadata": {
  "kernelspec": {
   "language": "python",
   "display_name": "Python 3",
   "name": "python3"
  },
  "language_info": {
   "pygments_lexer": "ipython3",
   "nbconvert_exporter": "python",
   "version": "3.6.4",
   "file_extension": ".py",
   "codemirror_mode": {
    "name": "ipython",
    "version": 3
   },
   "name": "python",
   "mimetype": "text/x-python"
  }
 },
 "nbformat_minor": 4,
 "nbformat": 4,
 "cells": [
  {
   "cell_type": "code",
   "source": [
    "# This Python 3 environment comes with many helpful analytics libraries installed\n",
    "# It is defined by the kaggle/python Docker image: https://github.com/kaggle/docker-python\n",
    "# For example, here's several helpful packages to load\n",
    "\n",
    "import numpy as np # linear algebra\n",
    "import pandas as pd # data processing, CSV file I/O (e.g. pd.read_csv)\n",
    "import plotly.graph_objects as go\n",
    "import plotly.express as px\n",
    "import matplotlib.pyplot as plt\n",
    "# Input data files are available in the read-only \"../input/\" directory\n",
    "# For example, running this (by clicking run or pressing Shift+Enter) will list all files under the input directory\n",
    "\n",
    "import os\n",
    "#for dirname, _, filenames in os.walk('/kaggle/input'):\n",
    "#    for filename in filenames:\n",
    "#        print(os.path.join(dirname, filename))\n",
    "\n",
    "# You can write up to 20GB to the current directory (/kaggle/working/) that gets preserved as output when you create a version using \"Save & Run All\" \n",
    "# You can also write temporary files to /kaggle/temp/, but they won't be saved outside of the current session"
   ],
   "metadata": {
    "_uuid": "8f2839f25d086af736a60e9eeb907d3b93b6e0e5",
    "_cell_guid": "b1076dfc-b9ad-4769-8c92-a6c4dae69d19",
    "execution": {
     "iopub.status.busy": "2022-05-30T05:27:12.848691Z",
     "iopub.execute_input": "2022-05-30T05:27:12.849206Z",
     "iopub.status.idle": "2022-05-30T05:27:14.464567Z",
     "shell.execute_reply.started": "2022-05-30T05:27:12.849111Z",
     "shell.execute_reply": "2022-05-30T05:27:14.463863Z"
    },
    "trusted": true,
    "pycharm": {
     "name": "#%%\n"
    }
   },
   "execution_count": 2,
   "outputs": []
  },
  {
   "cell_type": "code",
   "source": [
    "data = pd.read_csv(\"crime.csv\", encoding='windows-1252')"
   ],
   "metadata": {
    "execution": {
     "iopub.status.busy": "2022-05-30T05:27:14.465906Z",
     "iopub.execute_input": "2022-05-30T05:27:14.466364Z",
     "iopub.status.idle": "2022-05-30T05:27:16.575807Z",
     "shell.execute_reply.started": "2022-05-30T05:27:14.466312Z",
     "shell.execute_reply": "2022-05-30T05:27:16.574605Z"
    },
    "trusted": true,
    "pycharm": {
     "name": "#%%\n"
    }
   },
   "execution_count": 3,
   "outputs": []
  },
  {
   "cell_type": "code",
   "source": [
    "data.head()"
   ],
   "metadata": {
    "execution": {
     "iopub.status.busy": "2022-05-30T05:27:16.579099Z",
     "iopub.execute_input": "2022-05-30T05:27:16.579764Z",
     "iopub.status.idle": "2022-05-30T05:27:16.621675Z",
     "shell.execute_reply.started": "2022-05-30T05:27:16.579719Z",
     "shell.execute_reply": "2022-05-30T05:27:16.613455Z"
    },
    "trusted": true,
    "pycharm": {
     "name": "#%%\n"
    }
   },
   "execution_count": 4,
   "outputs": [
    {
     "data": {
      "text/plain": "  INCIDENT_NUMBER  OFFENSE_CODE    OFFENSE_CODE_GROUP   OFFENSE_DESCRIPTION  \\\n0      I182070945           619               Larceny    LARCENY ALL OTHERS   \n1      I182070943          1402             Vandalism             VANDALISM   \n2      I182070941          3410                 Towed   TOWED MOTOR VEHICLE   \n3      I182070940          3114  Investigate Property  INVESTIGATE PROPERTY   \n4      I182070938          3114  Investigate Property  INVESTIGATE PROPERTY   \n\n  DISTRICT REPORTING_AREA SHOOTING     OCCURRED_ON_DATE  YEAR  MONTH  \\\n0      D14            808      NaN  2018-09-02 13:00:00  2018      9   \n1      C11            347      NaN  2018-08-21 00:00:00  2018      8   \n2       D4            151      NaN  2018-09-03 19:27:00  2018      9   \n3       D4            272      NaN  2018-09-03 21:16:00  2018      9   \n4       B3            421      NaN  2018-09-03 21:05:00  2018      9   \n\n  DAY_OF_WEEK  HOUR    UCR_PART       STREET        Lat       Long  \\\n0      Sunday    13    Part One   LINCOLN ST  42.357791 -71.139371   \n1     Tuesday     0    Part Two     HECLA ST  42.306821 -71.060300   \n2      Monday    19  Part Three  CAZENOVE ST  42.346589 -71.072429   \n3      Monday    21  Part Three   NEWCOMB ST  42.334182 -71.078664   \n4      Monday    21  Part Three     DELHI ST  42.275365 -71.090361   \n\n                      Location  \n0  (42.35779134, -71.13937053)  \n1  (42.30682138, -71.06030035)  \n2  (42.34658879, -71.07242943)  \n3  (42.33418175, -71.07866441)  \n4  (42.27536542, -71.09036101)  ",
      "text/html": "<div>\n<style scoped>\n    .dataframe tbody tr th:only-of-type {\n        vertical-align: middle;\n    }\n\n    .dataframe tbody tr th {\n        vertical-align: top;\n    }\n\n    .dataframe thead th {\n        text-align: right;\n    }\n</style>\n<table border=\"1\" class=\"dataframe\">\n  <thead>\n    <tr style=\"text-align: right;\">\n      <th></th>\n      <th>INCIDENT_NUMBER</th>\n      <th>OFFENSE_CODE</th>\n      <th>OFFENSE_CODE_GROUP</th>\n      <th>OFFENSE_DESCRIPTION</th>\n      <th>DISTRICT</th>\n      <th>REPORTING_AREA</th>\n      <th>SHOOTING</th>\n      <th>OCCURRED_ON_DATE</th>\n      <th>YEAR</th>\n      <th>MONTH</th>\n      <th>DAY_OF_WEEK</th>\n      <th>HOUR</th>\n      <th>UCR_PART</th>\n      <th>STREET</th>\n      <th>Lat</th>\n      <th>Long</th>\n      <th>Location</th>\n    </tr>\n  </thead>\n  <tbody>\n    <tr>\n      <th>0</th>\n      <td>I182070945</td>\n      <td>619</td>\n      <td>Larceny</td>\n      <td>LARCENY ALL OTHERS</td>\n      <td>D14</td>\n      <td>808</td>\n      <td>NaN</td>\n      <td>2018-09-02 13:00:00</td>\n      <td>2018</td>\n      <td>9</td>\n      <td>Sunday</td>\n      <td>13</td>\n      <td>Part One</td>\n      <td>LINCOLN ST</td>\n      <td>42.357791</td>\n      <td>-71.139371</td>\n      <td>(42.35779134, -71.13937053)</td>\n    </tr>\n    <tr>\n      <th>1</th>\n      <td>I182070943</td>\n      <td>1402</td>\n      <td>Vandalism</td>\n      <td>VANDALISM</td>\n      <td>C11</td>\n      <td>347</td>\n      <td>NaN</td>\n      <td>2018-08-21 00:00:00</td>\n      <td>2018</td>\n      <td>8</td>\n      <td>Tuesday</td>\n      <td>0</td>\n      <td>Part Two</td>\n      <td>HECLA ST</td>\n      <td>42.306821</td>\n      <td>-71.060300</td>\n      <td>(42.30682138, -71.06030035)</td>\n    </tr>\n    <tr>\n      <th>2</th>\n      <td>I182070941</td>\n      <td>3410</td>\n      <td>Towed</td>\n      <td>TOWED MOTOR VEHICLE</td>\n      <td>D4</td>\n      <td>151</td>\n      <td>NaN</td>\n      <td>2018-09-03 19:27:00</td>\n      <td>2018</td>\n      <td>9</td>\n      <td>Monday</td>\n      <td>19</td>\n      <td>Part Three</td>\n      <td>CAZENOVE ST</td>\n      <td>42.346589</td>\n      <td>-71.072429</td>\n      <td>(42.34658879, -71.07242943)</td>\n    </tr>\n    <tr>\n      <th>3</th>\n      <td>I182070940</td>\n      <td>3114</td>\n      <td>Investigate Property</td>\n      <td>INVESTIGATE PROPERTY</td>\n      <td>D4</td>\n      <td>272</td>\n      <td>NaN</td>\n      <td>2018-09-03 21:16:00</td>\n      <td>2018</td>\n      <td>9</td>\n      <td>Monday</td>\n      <td>21</td>\n      <td>Part Three</td>\n      <td>NEWCOMB ST</td>\n      <td>42.334182</td>\n      <td>-71.078664</td>\n      <td>(42.33418175, -71.07866441)</td>\n    </tr>\n    <tr>\n      <th>4</th>\n      <td>I182070938</td>\n      <td>3114</td>\n      <td>Investigate Property</td>\n      <td>INVESTIGATE PROPERTY</td>\n      <td>B3</td>\n      <td>421</td>\n      <td>NaN</td>\n      <td>2018-09-03 21:05:00</td>\n      <td>2018</td>\n      <td>9</td>\n      <td>Monday</td>\n      <td>21</td>\n      <td>Part Three</td>\n      <td>DELHI ST</td>\n      <td>42.275365</td>\n      <td>-71.090361</td>\n      <td>(42.27536542, -71.09036101)</td>\n    </tr>\n  </tbody>\n</table>\n</div>"
     },
     "execution_count": 4,
     "metadata": {},
     "output_type": "execute_result"
    }
   ]
  },
  {
   "cell_type": "code",
   "source": [
    "data.info()\n",
    "template = \"plotly_white\"\n",
    "color_1 = '#3182bd'\n",
    "color_2 = '#f1a340'"
   ],
   "metadata": {
    "execution": {
     "iopub.status.busy": "2022-05-30T05:27:16.624013Z",
     "iopub.execute_input": "2022-05-30T05:27:16.624726Z",
     "iopub.status.idle": "2022-05-30T05:27:17.028195Z",
     "shell.execute_reply.started": "2022-05-30T05:27:16.624685Z",
     "shell.execute_reply": "2022-05-30T05:27:17.027199Z"
    },
    "trusted": true,
    "pycharm": {
     "name": "#%%\n"
    }
   },
   "execution_count": 84,
   "outputs": [
    {
     "name": "stdout",
     "output_type": "stream",
     "text": [
      "<class 'pandas.core.frame.DataFrame'>\n",
      "RangeIndex: 319073 entries, 0 to 319072\n",
      "Data columns (total 18 columns):\n",
      " #   Column               Non-Null Count   Dtype  \n",
      "---  ------               --------------   -----  \n",
      " 0   INCIDENT_NUMBER      319073 non-null  object \n",
      " 1   OFFENSE_CODE         319073 non-null  int64  \n",
      " 2   OFFENSE_CODE_GROUP   319073 non-null  object \n",
      " 3   OFFENSE_DESCRIPTION  319073 non-null  object \n",
      " 4   DISTRICT             317308 non-null  object \n",
      " 5   REPORTING_AREA       319073 non-null  object \n",
      " 6   SHOOTING             1019 non-null    object \n",
      " 7   OCCURRED_ON_DATE     319073 non-null  object \n",
      " 8   YEAR                 319073 non-null  int64  \n",
      " 9   MONTH                319073 non-null  int64  \n",
      " 10  DAY_OF_WEEK          319073 non-null  object \n",
      " 11  HOUR                 319073 non-null  int64  \n",
      " 12  UCR_PART             318983 non-null  object \n",
      " 13  STREET               308202 non-null  object \n",
      " 14  Lat                  299074 non-null  float64\n",
      " 15  Long                 299074 non-null  float64\n",
      " 16  Location             319073 non-null  object \n",
      " 17  year_month           319073 non-null  int64  \n",
      "dtypes: float64(2), int64(5), object(11)\n",
      "memory usage: 43.8+ MB\n"
     ]
    }
   ]
  },
  {
   "cell_type": "markdown",
   "source": [
    "Tabela prezetująca poszczególne kradzieże w ciągu roku"
   ],
   "metadata": {
    "collapsed": false,
    "pycharm": {
     "name": "#%% md\n"
    }
   }
  },
  {
   "cell_type": "code",
   "execution_count": 112,
   "outputs": [
    {
     "data": {
      "text/plain": "existence                                            0\nOFFENSE_DESCRIPTION                          YEAR     \nINJURY BICYCLE NO M/V INVOLVED               2015   10\n                                             2016   26\n                                             2017   16\n                                             2018    5\nLARCENY BICYCLE $200 & OVER                  2015    2\n                                             2016    1\nLARCENY THEFT OF BICYCLE                     2015  576\n                                             2016  663\n                                             2017  599\n                                             2018  427\nM/V ACCIDENT - INVOLVING BICYCLE - NO INJURY 2015  112\n                                             2016  145\n                                             2017   95\n                                             2018   74\nM/V ACCIDENT - INVOLVING  BICYCLE - INJURY   2015  185\n                                             2016  305\n                                             2017  272\n                                             2018  154",
      "text/html": "<div>\n<style scoped>\n    .dataframe tbody tr th:only-of-type {\n        vertical-align: middle;\n    }\n\n    .dataframe tbody tr th {\n        vertical-align: top;\n    }\n\n    .dataframe thead th {\n        text-align: right;\n    }\n</style>\n<table border=\"1\" class=\"dataframe\">\n  <thead>\n    <tr style=\"text-align: right;\">\n      <th></th>\n      <th>existence</th>\n      <th>0</th>\n    </tr>\n    <tr>\n      <th>OFFENSE_DESCRIPTION</th>\n      <th>YEAR</th>\n      <th></th>\n    </tr>\n  </thead>\n  <tbody>\n    <tr>\n      <th rowspan=\"4\" valign=\"top\">INJURY BICYCLE NO M/V INVOLVED</th>\n      <th>2015</th>\n      <td>10</td>\n    </tr>\n    <tr>\n      <th>2016</th>\n      <td>26</td>\n    </tr>\n    <tr>\n      <th>2017</th>\n      <td>16</td>\n    </tr>\n    <tr>\n      <th>2018</th>\n      <td>5</td>\n    </tr>\n    <tr>\n      <th rowspan=\"2\" valign=\"top\">LARCENY BICYCLE $200 &amp; OVER</th>\n      <th>2015</th>\n      <td>2</td>\n    </tr>\n    <tr>\n      <th>2016</th>\n      <td>1</td>\n    </tr>\n    <tr>\n      <th rowspan=\"4\" valign=\"top\">LARCENY THEFT OF BICYCLE</th>\n      <th>2015</th>\n      <td>576</td>\n    </tr>\n    <tr>\n      <th>2016</th>\n      <td>663</td>\n    </tr>\n    <tr>\n      <th>2017</th>\n      <td>599</td>\n    </tr>\n    <tr>\n      <th>2018</th>\n      <td>427</td>\n    </tr>\n    <tr>\n      <th rowspan=\"4\" valign=\"top\">M/V ACCIDENT - INVOLVING BICYCLE - NO INJURY</th>\n      <th>2015</th>\n      <td>112</td>\n    </tr>\n    <tr>\n      <th>2016</th>\n      <td>145</td>\n    </tr>\n    <tr>\n      <th>2017</th>\n      <td>95</td>\n    </tr>\n    <tr>\n      <th>2018</th>\n      <td>74</td>\n    </tr>\n    <tr>\n      <th rowspan=\"4\" valign=\"top\">M/V ACCIDENT - INVOLVING  BICYCLE - INJURY</th>\n      <th>2015</th>\n      <td>185</td>\n    </tr>\n    <tr>\n      <th>2016</th>\n      <td>305</td>\n    </tr>\n    <tr>\n      <th>2017</th>\n      <td>272</td>\n    </tr>\n    <tr>\n      <th>2018</th>\n      <td>154</td>\n    </tr>\n  </tbody>\n</table>\n</div>"
     },
     "execution_count": 112,
     "metadata": {},
     "output_type": "execute_result"
    }
   ],
   "source": [
    "bicycle_data = data.iloc[:,[3, 8]].copy()\n",
    "bicycle_data['existence'] = data['OFFENSE_DESCRIPTION'].str.find('BICYCLE')\n",
    "# bicycle_data.loc[bicycle_data.existence >0, 'result']='success'\n",
    "bicycle_data = bicycle_data[bicycle_data.existence != -1].copy()\n",
    "bicycle_data['existence'] = bicycle_data['existence'].replace([17, 26, 25, 7, 8],0)\n",
    "bicycle_data.pivot_table(index=['OFFENSE_DESCRIPTION','YEAR'], columns='existence', aggfunc='size', fill_value=0)\n",
    "#plt.hist(bicycle_data.value_counts())\n",
    "\n",
    "# bicycle_data.hist(figsize=[12, 8], bins=15)\n",
    "#plt.show()"
   ],
   "metadata": {
    "collapsed": false,
    "pycharm": {
     "name": "#%%\n"
    }
   }
  },
  {
   "cell_type": "code",
   "execution_count": 99,
   "outputs": [
    {
     "data": {
      "text/plain": "                        OFFENSE_DESCRIPTION  YEAR existence\n0                        LARCENY ALL OTHERS  2018       NaN\n1                                 VANDALISM  2018       NaN\n2                       TOWED MOTOR VEHICLE  2018       NaN\n3                      INVESTIGATE PROPERTY  2018       NaN\n4                      INVESTIGATE PROPERTY  2018       NaN\n...                                     ...   ...       ...\n319068                       WARRANT ARREST  2016       NaN\n319069  MURDER, NON-NEGLIGIENT MANSLAUGHTER  2015       NaN\n319070                       WARRANT ARREST  2015       NaN\n319071                       WARRANT ARREST  2016       NaN\n319072                       WARRANT ARREST  2015       NaN\n\n[319073 rows x 3 columns]",
      "text/html": "<div>\n<style scoped>\n    .dataframe tbody tr th:only-of-type {\n        vertical-align: middle;\n    }\n\n    .dataframe tbody tr th {\n        vertical-align: top;\n    }\n\n    .dataframe thead th {\n        text-align: right;\n    }\n</style>\n<table border=\"1\" class=\"dataframe\">\n  <thead>\n    <tr style=\"text-align: right;\">\n      <th></th>\n      <th>OFFENSE_DESCRIPTION</th>\n      <th>YEAR</th>\n      <th>existence</th>\n    </tr>\n  </thead>\n  <tbody>\n    <tr>\n      <th>0</th>\n      <td>LARCENY ALL OTHERS</td>\n      <td>2018</td>\n      <td>NaN</td>\n    </tr>\n    <tr>\n      <th>1</th>\n      <td>VANDALISM</td>\n      <td>2018</td>\n      <td>NaN</td>\n    </tr>\n    <tr>\n      <th>2</th>\n      <td>TOWED MOTOR VEHICLE</td>\n      <td>2018</td>\n      <td>NaN</td>\n    </tr>\n    <tr>\n      <th>3</th>\n      <td>INVESTIGATE PROPERTY</td>\n      <td>2018</td>\n      <td>NaN</td>\n    </tr>\n    <tr>\n      <th>4</th>\n      <td>INVESTIGATE PROPERTY</td>\n      <td>2018</td>\n      <td>NaN</td>\n    </tr>\n    <tr>\n      <th>...</th>\n      <td>...</td>\n      <td>...</td>\n      <td>...</td>\n    </tr>\n    <tr>\n      <th>319068</th>\n      <td>WARRANT ARREST</td>\n      <td>2016</td>\n      <td>NaN</td>\n    </tr>\n    <tr>\n      <th>319069</th>\n      <td>MURDER, NON-NEGLIGIENT MANSLAUGHTER</td>\n      <td>2015</td>\n      <td>NaN</td>\n    </tr>\n    <tr>\n      <th>319070</th>\n      <td>WARRANT ARREST</td>\n      <td>2015</td>\n      <td>NaN</td>\n    </tr>\n    <tr>\n      <th>319071</th>\n      <td>WARRANT ARREST</td>\n      <td>2016</td>\n      <td>NaN</td>\n    </tr>\n    <tr>\n      <th>319072</th>\n      <td>WARRANT ARREST</td>\n      <td>2015</td>\n      <td>NaN</td>\n    </tr>\n  </tbody>\n</table>\n<p>319073 rows × 3 columns</p>\n</div>"
     },
     "execution_count": 99,
     "metadata": {},
     "output_type": "execute_result"
    }
   ],
   "source": [],
   "metadata": {
    "collapsed": false,
    "pycharm": {
     "name": "#%%\n"
    }
   }
  },
  {
   "cell_type": "code",
   "execution_count": 74,
   "outputs": [
    {
     "ename": "UFuncTypeError",
     "evalue": "ufunc 'add' did not contain a loop with signature matching types (dtype('int64'), dtype('<U1')) -> None",
     "output_type": "error",
     "traceback": [
      "\u001B[0;31m---------------------------------------------------------------------------\u001B[0m",
      "\u001B[0;31mUFuncTypeError\u001B[0m                            Traceback (most recent call last)",
      "Input \u001B[0;32mIn [74]\u001B[0m, in \u001B[0;36m<cell line: 1>\u001B[0;34m()\u001B[0m\n\u001B[0;32m----> 1\u001B[0m data[\u001B[38;5;124m'\u001B[39m\u001B[38;5;124myear_month\u001B[39m\u001B[38;5;124m'\u001B[39m] \u001B[38;5;241m=\u001B[39m \u001B[43mdata\u001B[49m\u001B[38;5;241;43m.\u001B[39;49m\u001B[43mYEAR\u001B[49m\u001B[43m \u001B[49m\u001B[38;5;241;43m+\u001B[39;49m\u001B[43m \u001B[49m\u001B[38;5;124;43m'\u001B[39;49m\u001B[38;5;124;43m \u001B[39;49m\u001B[38;5;124;43m'\u001B[39;49m \u001B[38;5;241m+\u001B[39m data\u001B[38;5;241m.\u001B[39mMONTH\n\u001B[1;32m      2\u001B[0m data[\u001B[38;5;124m'\u001B[39m\u001B[38;5;124myear_month\u001B[39m\u001B[38;5;124m'\u001B[39m]\n",
      "File \u001B[0;32m~/Documents/Exercises/venv/lib/python3.8/site-packages/pandas/core/ops/common.py:70\u001B[0m, in \u001B[0;36m_unpack_zerodim_and_defer.<locals>.new_method\u001B[0;34m(self, other)\u001B[0m\n\u001B[1;32m     66\u001B[0m             \u001B[38;5;28;01mreturn\u001B[39;00m \u001B[38;5;28mNotImplemented\u001B[39m\n\u001B[1;32m     68\u001B[0m other \u001B[38;5;241m=\u001B[39m item_from_zerodim(other)\n\u001B[0;32m---> 70\u001B[0m \u001B[38;5;28;01mreturn\u001B[39;00m \u001B[43mmethod\u001B[49m\u001B[43m(\u001B[49m\u001B[38;5;28;43mself\u001B[39;49m\u001B[43m,\u001B[49m\u001B[43m \u001B[49m\u001B[43mother\u001B[49m\u001B[43m)\u001B[49m\n",
      "File \u001B[0;32m~/Documents/Exercises/venv/lib/python3.8/site-packages/pandas/core/arraylike.py:100\u001B[0m, in \u001B[0;36mOpsMixin.__add__\u001B[0;34m(self, other)\u001B[0m\n\u001B[1;32m     98\u001B[0m \u001B[38;5;129m@unpack_zerodim_and_defer\u001B[39m(\u001B[38;5;124m\"\u001B[39m\u001B[38;5;124m__add__\u001B[39m\u001B[38;5;124m\"\u001B[39m)\n\u001B[1;32m     99\u001B[0m \u001B[38;5;28;01mdef\u001B[39;00m \u001B[38;5;21m__add__\u001B[39m(\u001B[38;5;28mself\u001B[39m, other):\n\u001B[0;32m--> 100\u001B[0m     \u001B[38;5;28;01mreturn\u001B[39;00m \u001B[38;5;28;43mself\u001B[39;49m\u001B[38;5;241;43m.\u001B[39;49m\u001B[43m_arith_method\u001B[49m\u001B[43m(\u001B[49m\u001B[43mother\u001B[49m\u001B[43m,\u001B[49m\u001B[43m \u001B[49m\u001B[43moperator\u001B[49m\u001B[38;5;241;43m.\u001B[39;49m\u001B[43madd\u001B[49m\u001B[43m)\u001B[49m\n",
      "File \u001B[0;32m~/Documents/Exercises/venv/lib/python3.8/site-packages/pandas/core/series.py:5639\u001B[0m, in \u001B[0;36mSeries._arith_method\u001B[0;34m(self, other, op)\u001B[0m\n\u001B[1;32m   5637\u001B[0m \u001B[38;5;28;01mdef\u001B[39;00m \u001B[38;5;21m_arith_method\u001B[39m(\u001B[38;5;28mself\u001B[39m, other, op):\n\u001B[1;32m   5638\u001B[0m     \u001B[38;5;28mself\u001B[39m, other \u001B[38;5;241m=\u001B[39m ops\u001B[38;5;241m.\u001B[39malign_method_SERIES(\u001B[38;5;28mself\u001B[39m, other)\n\u001B[0;32m-> 5639\u001B[0m     \u001B[38;5;28;01mreturn\u001B[39;00m \u001B[43mbase\u001B[49m\u001B[38;5;241;43m.\u001B[39;49m\u001B[43mIndexOpsMixin\u001B[49m\u001B[38;5;241;43m.\u001B[39;49m\u001B[43m_arith_method\u001B[49m\u001B[43m(\u001B[49m\u001B[38;5;28;43mself\u001B[39;49m\u001B[43m,\u001B[49m\u001B[43m \u001B[49m\u001B[43mother\u001B[49m\u001B[43m,\u001B[49m\u001B[43m \u001B[49m\u001B[43mop\u001B[49m\u001B[43m)\u001B[49m\n",
      "File \u001B[0;32m~/Documents/Exercises/venv/lib/python3.8/site-packages/pandas/core/base.py:1295\u001B[0m, in \u001B[0;36mIndexOpsMixin._arith_method\u001B[0;34m(self, other, op)\u001B[0m\n\u001B[1;32m   1292\u001B[0m rvalues \u001B[38;5;241m=\u001B[39m ensure_wrapped_if_datetimelike(rvalues)\n\u001B[1;32m   1294\u001B[0m \u001B[38;5;28;01mwith\u001B[39;00m np\u001B[38;5;241m.\u001B[39merrstate(\u001B[38;5;28mall\u001B[39m\u001B[38;5;241m=\u001B[39m\u001B[38;5;124m\"\u001B[39m\u001B[38;5;124mignore\u001B[39m\u001B[38;5;124m\"\u001B[39m):\n\u001B[0;32m-> 1295\u001B[0m     result \u001B[38;5;241m=\u001B[39m \u001B[43mops\u001B[49m\u001B[38;5;241;43m.\u001B[39;49m\u001B[43marithmetic_op\u001B[49m\u001B[43m(\u001B[49m\u001B[43mlvalues\u001B[49m\u001B[43m,\u001B[49m\u001B[43m \u001B[49m\u001B[43mrvalues\u001B[49m\u001B[43m,\u001B[49m\u001B[43m \u001B[49m\u001B[43mop\u001B[49m\u001B[43m)\u001B[49m\n\u001B[1;32m   1297\u001B[0m \u001B[38;5;28;01mreturn\u001B[39;00m \u001B[38;5;28mself\u001B[39m\u001B[38;5;241m.\u001B[39m_construct_result(result, name\u001B[38;5;241m=\u001B[39mres_name)\n",
      "File \u001B[0;32m~/Documents/Exercises/venv/lib/python3.8/site-packages/pandas/core/ops/array_ops.py:222\u001B[0m, in \u001B[0;36marithmetic_op\u001B[0;34m(left, right, op)\u001B[0m\n\u001B[1;32m    217\u001B[0m \u001B[38;5;28;01melse\u001B[39;00m:\n\u001B[1;32m    218\u001B[0m     \u001B[38;5;66;03m# TODO we should handle EAs consistently and move this check before the if/else\u001B[39;00m\n\u001B[1;32m    219\u001B[0m     \u001B[38;5;66;03m# (https://github.com/pandas-dev/pandas/issues/41165)\u001B[39;00m\n\u001B[1;32m    220\u001B[0m     _bool_arith_check(op, left, right)\n\u001B[0;32m--> 222\u001B[0m     res_values \u001B[38;5;241m=\u001B[39m \u001B[43m_na_arithmetic_op\u001B[49m\u001B[43m(\u001B[49m\u001B[43mleft\u001B[49m\u001B[43m,\u001B[49m\u001B[43m \u001B[49m\u001B[43mright\u001B[49m\u001B[43m,\u001B[49m\u001B[43m \u001B[49m\u001B[43mop\u001B[49m\u001B[43m)\u001B[49m\n\u001B[1;32m    224\u001B[0m \u001B[38;5;28;01mreturn\u001B[39;00m res_values\n",
      "File \u001B[0;32m~/Documents/Exercises/venv/lib/python3.8/site-packages/pandas/core/ops/array_ops.py:163\u001B[0m, in \u001B[0;36m_na_arithmetic_op\u001B[0;34m(left, right, op, is_cmp)\u001B[0m\n\u001B[1;32m    160\u001B[0m     func \u001B[38;5;241m=\u001B[39m partial(expressions\u001B[38;5;241m.\u001B[39mevaluate, op)\n\u001B[1;32m    162\u001B[0m \u001B[38;5;28;01mtry\u001B[39;00m:\n\u001B[0;32m--> 163\u001B[0m     result \u001B[38;5;241m=\u001B[39m \u001B[43mfunc\u001B[49m\u001B[43m(\u001B[49m\u001B[43mleft\u001B[49m\u001B[43m,\u001B[49m\u001B[43m \u001B[49m\u001B[43mright\u001B[49m\u001B[43m)\u001B[49m\n\u001B[1;32m    164\u001B[0m \u001B[38;5;28;01mexcept\u001B[39;00m \u001B[38;5;167;01mTypeError\u001B[39;00m:\n\u001B[1;32m    165\u001B[0m     \u001B[38;5;28;01mif\u001B[39;00m \u001B[38;5;129;01mnot\u001B[39;00m is_cmp \u001B[38;5;129;01mand\u001B[39;00m (is_object_dtype(left\u001B[38;5;241m.\u001B[39mdtype) \u001B[38;5;129;01mor\u001B[39;00m is_object_dtype(right)):\n\u001B[1;32m    166\u001B[0m         \u001B[38;5;66;03m# For object dtype, fallback to a masked operation (only operating\u001B[39;00m\n\u001B[1;32m    167\u001B[0m         \u001B[38;5;66;03m#  on the non-missing values)\u001B[39;00m\n\u001B[1;32m    168\u001B[0m         \u001B[38;5;66;03m# Don't do this for comparisons, as that will handle complex numbers\u001B[39;00m\n\u001B[1;32m    169\u001B[0m         \u001B[38;5;66;03m#  incorrectly, see GH#32047\u001B[39;00m\n",
      "\u001B[0;31mUFuncTypeError\u001B[0m: ufunc 'add' did not contain a loop with signature matching types (dtype('int64'), dtype('<U1')) -> None"
     ]
    }
   ],
   "source": [
    "fig = px.histogram(bicycle_data, x='OFFENSE_DESCRIPTION',\n",
    "            title='Rozkład wieku pasażerów Titanica',\n",
    "            labels={'Age': 'Wiek'},\n",
    "            color_discrete_sequence=[color_1],\n",
    "            template=template,\n",
    "            #marginal=\"box\",\n",
    "            nbins = 40,\n",
    "            width=800, height=500)\n",
    "fig.show()"
   ],
   "metadata": {
    "collapsed": false,
    "pycharm": {
     "name": "#%%\n"
    }
   }
  },
  {
   "cell_type": "code",
   "source": [
    "chosen_data = data.iloc[:,[2,3,6,8,9,10,11,16]]"
   ],
   "metadata": {
    "execution": {
     "iopub.status.busy": "2022-05-30T05:27:17.030526Z",
     "iopub.execute_input": "2022-05-30T05:27:17.030959Z",
     "iopub.status.idle": "2022-05-30T05:27:17.051365Z",
     "shell.execute_reply.started": "2022-05-30T05:27:17.030913Z",
     "shell.execute_reply": "2022-05-30T05:27:17.050544Z"
    },
    "trusted": true,
    "pycharm": {
     "name": "#%%\n"
    }
   },
   "execution_count": null,
   "outputs": []
  },
  {
   "cell_type": "code",
   "source": [
    "chosen_data"
   ],
   "metadata": {
    "execution": {
     "iopub.status.busy": "2022-05-30T05:27:17.052793Z",
     "iopub.execute_input": "2022-05-30T05:27:17.053423Z",
     "iopub.status.idle": "2022-05-30T05:27:17.074476Z",
     "shell.execute_reply.started": "2022-05-30T05:27:17.053379Z",
     "shell.execute_reply": "2022-05-30T05:27:17.073483Z"
    },
    "trusted": true,
    "pycharm": {
     "name": "#%%\n"
    }
   },
   "execution_count": null,
   "outputs": []
  },
  {
   "cell_type": "code",
   "source": [
    "chosen_data.hist()"
   ],
   "metadata": {
    "execution": {
     "iopub.status.busy": "2022-05-30T05:27:58.581915Z",
     "iopub.execute_input": "2022-05-30T05:27:58.582329Z",
     "iopub.status.idle": "2022-05-30T05:27:59.031643Z",
     "shell.execute_reply.started": "2022-05-30T05:27:58.582282Z",
     "shell.execute_reply": "2022-05-30T05:27:59.030777Z"
    },
    "trusted": true,
    "pycharm": {
     "name": "#%%\n"
    }
   },
   "execution_count": null,
   "outputs": []
  },
  {
   "cell_type": "code",
   "source": [],
   "metadata": {
    "pycharm": {
     "name": "#%%\n"
    }
   },
   "execution_count": null,
   "outputs": []
  },
  {
   "cell_type": "code",
   "source": [
    "plt.hist(choosen_data.iloc[:,[0]])\n"
   ],
   "metadata": {
    "execution": {
     "iopub.status.busy": "2022-05-30T05:30:29.776248Z",
     "iopub.execute_input": "2022-05-30T05:30:29.776655Z",
     "iopub.status.idle": "2022-05-30T05:30:30.894464Z",
     "shell.execute_reply.started": "2022-05-30T05:30:29.776623Z",
     "shell.execute_reply": "2022-05-30T05:30:30.893132Z"
    },
    "trusted": true,
    "pycharm": {
     "name": "#%%\n"
    }
   },
   "execution_count": null,
   "outputs": []
  },
  {
   "cell_type": "markdown",
   "source": [
    "Wezwania są zgodne z jedym z 67 kodów"
   ],
   "metadata": {
    "pycharm": {
     "name": "#%% md\n"
    }
   }
  },
  {
   "cell_type": "code",
   "source": [
    "data_offences = data['OFFENSE_CODE_GROUP'].value_counts()"
   ],
   "metadata": {
    "execution": {
     "iopub.status.busy": "2022-05-28T16:15:26.101771Z",
     "iopub.execute_input": "2022-05-28T16:15:26.102455Z",
     "iopub.status.idle": "2022-05-28T16:15:26.158497Z",
     "shell.execute_reply.started": "2022-05-28T16:15:26.102421Z",
     "shell.execute_reply": "2022-05-28T16:15:26.157057Z"
    },
    "trusted": true,
    "pycharm": {
     "name": "#%%\n"
    }
   },
   "execution_count": null,
   "outputs": []
  },
  {
   "cell_type": "code",
   "source": [
    "do = data['OFFENSE_CODE_GROUP'].unique()\n",
    "do\n",
    "#'Medical Assistance'"
   ],
   "metadata": {
    "execution": {
     "iopub.status.busy": "2022-05-28T16:25:38.765568Z",
     "iopub.execute_input": "2022-05-28T16:25:38.766938Z",
     "iopub.status.idle": "2022-05-28T16:25:38.803557Z",
     "shell.execute_reply.started": "2022-05-28T16:25:38.766892Z",
     "shell.execute_reply": "2022-05-28T16:25:38.802616Z"
    },
    "trusted": true,
    "pycharm": {
     "name": "#%%\n"
    }
   },
   "execution_count": null,
   "outputs": []
  },
  {
   "cell_type": "markdown",
   "source": [
    "Pie chart z poszczególnymi przestępstwami"
   ],
   "metadata": {
    "pycharm": {
     "name": "#%% md\n"
    }
   }
  },
  {
   "cell_type": "code",
   "source": [
    "plt.pie(data_offences)\n",
    " \n",
    "# show plot\n",
    "plt.show()"
   ],
   "metadata": {
    "execution": {
     "iopub.status.busy": "2022-05-28T16:17:02.437622Z",
     "iopub.execute_input": "2022-05-28T16:17:02.438033Z",
     "iopub.status.idle": "2022-05-28T16:17:02.815188Z",
     "shell.execute_reply.started": "2022-05-28T16:17:02.438001Z",
     "shell.execute_reply": "2022-05-28T16:17:02.81415Z"
    },
    "trusted": true,
    "pycharm": {
     "name": "#%%\n"
    }
   },
   "execution_count": null,
   "outputs": []
  },
  {
   "cell_type": "code",
   "source": [
    "data_year = data['YEAR'].value_counts()"
   ],
   "metadata": {
    "execution": {
     "iopub.status.busy": "2022-05-28T16:17:09.055205Z",
     "iopub.execute_input": "2022-05-28T16:17:09.055704Z",
     "iopub.status.idle": "2022-05-28T16:17:09.06523Z",
     "shell.execute_reply.started": "2022-05-28T16:17:09.055675Z",
     "shell.execute_reply": "2022-05-28T16:17:09.064089Z"
    },
    "trusted": true,
    "pycharm": {
     "name": "#%%\n"
    }
   },
   "execution_count": null,
   "outputs": []
  },
  {
   "cell_type": "markdown",
   "source": [
    "Godziny w których jest popełniane najwiecej przestępstw"
   ],
   "metadata": {
    "pycharm": {
     "name": "#%% md\n"
    }
   }
  },
  {
   "cell_type": "code",
   "source": [
    "#data_hour = data['HOUR'].value_counts()\n",
    "plt.hist(data['HOUR'], bins = 24)\n",
    "plt.show()"
   ],
   "metadata": {
    "execution": {
     "iopub.status.busy": "2022-05-28T16:24:10.903627Z",
     "iopub.execute_input": "2022-05-28T16:24:10.904182Z",
     "iopub.status.idle": "2022-05-28T16:24:11.125536Z",
     "shell.execute_reply.started": "2022-05-28T16:24:10.904143Z",
     "shell.execute_reply": "2022-05-28T16:24:11.124701Z"
    },
    "trusted": true,
    "pycharm": {
     "name": "#%%\n"
    }
   },
   "execution_count": null,
   "outputs": []
  },
  {
   "cell_type": "code",
   "source": [
    "data"
   ],
   "metadata": {
    "pycharm": {
     "name": "#%%\n"
    }
   },
   "execution_count": null,
   "outputs": []
  },
  {
   "cell_type": "code",
   "source": [
    "plt.hist(data['MONTH'], bins = 12)\n",
    "plt.show()"
   ],
   "metadata": {
    "execution": {
     "iopub.status.busy": "2022-05-28T16:25:02.474634Z",
     "iopub.execute_input": "2022-05-28T16:25:02.475029Z",
     "iopub.status.idle": "2022-05-28T16:25:02.678902Z",
     "shell.execute_reply.started": "2022-05-28T16:25:02.474998Z",
     "shell.execute_reply": "2022-05-28T16:25:02.678023Z"
    },
    "trusted": true,
    "pycharm": {
     "name": "#%%\n"
    }
   },
   "execution_count": null,
   "outputs": []
  },
  {
   "cell_type": "code",
   "source": [],
   "metadata": {
    "pycharm": {
     "name": "#%%\n"
    }
   },
   "execution_count": null,
   "outputs": []
  },
  {
   "cell_type": "code",
   "source": [
    "import plotly.graph_objects as go\n",
    "\n",
    "fig = go.Figure(go.Choroplethmapbox(geojson=counties, locations=data, z=df.unemp,\n",
    "                                    colorscale=\"Viridis\", zmin=0, zmax=12, marker_line_width=0))\n",
    "fig.update_layout(mapbox_style=\"light\", mapbox_accesstoken=token,\n",
    "                  mapbox_zoom=3, mapbox_center = {\"lat\": 37.0902, \"lon\": -95.7129})\n",
    "fig.update_layout(margin={\"r\":0,\"t\":0,\"l\":0,\"b\":0})\n",
    "fig.show()"
   ],
   "metadata": {
    "execution": {
     "iopub.status.busy": "2022-05-28T16:00:37.300544Z",
     "iopub.execute_input": "2022-05-28T16:00:37.301369Z",
     "iopub.status.idle": "2022-05-28T16:00:37.315546Z",
     "shell.execute_reply.started": "2022-05-28T16:00:37.301331Z",
     "shell.execute_reply": "2022-05-28T16:00:37.314436Z"
    },
    "trusted": true,
    "pycharm": {
     "name": "#%%\n"
    }
   },
   "execution_count": null,
   "outputs": []
  },
  {
   "cell_type": "code",
   "source": [
    "fig = go.Figure(\n",
    "    go.Choropleth(locations=data['Location'],\n",
    "            \n",
    "                    ))\n",
    "fig.update_geos(projection_type='natural earth')\n",
    "fig.update_layout(title='<b>Countries by life expectancy.</b>',\n",
    "    height=300,\n",
    "    margin={\"r\":40,\"t\":40,\"l\":40,\"b\":0})\n",
    "fig.show()"
   ],
   "metadata": {
    "execution": {
     "iopub.status.busy": "2022-05-28T15:55:41.674227Z",
     "iopub.execute_input": "2022-05-28T15:55:41.674639Z",
     "iopub.status.idle": "2022-05-28T15:55:43.18596Z",
     "shell.execute_reply.started": "2022-05-28T15:55:41.674607Z",
     "shell.execute_reply": "2022-05-28T15:55:43.184942Z"
    },
    "trusted": true,
    "pycharm": {
     "name": "#%%\n"
    }
   },
   "execution_count": null,
   "outputs": []
  },
  {
   "cell_type": "code",
   "source": [
    "fig = go.Figure()\n",
    "fig.add_trace(go.Bar(x=counts_1, y=bins_1,\n",
    "                base=-counts_1,\n",
    "                marker_color=color_2,\n",
    "                name='Kobiety',\n",
    "                orientation='h'\n",
    "                    ))\n",
    "fig.add_trace(go.Bar(x=counts_2, y=bins_2,\n",
    "                base=0,\n",
    "                marker_color=color_1,\n",
    "                name='Mężczyźni',\n",
    "                 orientation='h'\n",
    "                    ))\n",
    "fig.update_layout(barmode='overlay',\n",
    "            title='Rozkład wieku pasażerów Titanica',\n",
    "            yaxis_title='Wiek',\n",
    "            xaxis_title='Liczebność',\n",
    "            template=template,\n",
    "            width=700, height=600)\n",
    "fig.update_xaxes(\n",
    "    ticktext=['20', '0', '20', '40'],\n",
    "    tickvals=['-20', '0', '20', '40']\n",
    ")\n",
    "fig.show()"
   ],
   "metadata": {
    "pycharm": {
     "name": "#%%\n"
    }
   },
   "execution_count": null,
   "outputs": []
  }
 ]
}