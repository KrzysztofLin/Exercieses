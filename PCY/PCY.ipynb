{
  "nbformat": 4,
  "nbformat_minor": 0,
  "metadata": {
    "colab": {
      "name": "EMBZ_12_PCY.ipynb",
      "provenance": [],
      "collapsed_sections": []
    },
    "kernelspec": {
      "name": "python3",
      "display_name": "Python 3"
    },
    "language_info": {
      "name": "python"
    }
  },
  "cells": [
    {
      "cell_type": "code",
      "execution_count": null,
      "metadata": {
        "id": "Db64BK0xWsjc"
      },
      "outputs": [],
      "source": [
        "from collections import Counter, defaultdict\n",
        "from itertools import combinations, product"
      ]
    },
    {
      "cell_type": "markdown",
      "source": [
        "#PCY"
      ],
      "metadata": {
        "id": "P-hxXs66VuuF"
      }
    },
    {
      "cell_type": "markdown",
      "source": [
        "Creation of the buckets with elements which simulate real-life stream."
      ],
      "metadata": {
        "id": "qaDM16FhXIS8"
      }
    },
    {
      "cell_type": "code",
      "source": [
        "#supp = C1\n",
        "#row = basket \n",
        "H1 = defaultdict(int)\n",
        "H2 = Counter()\n",
        "buckets = defaultdict(list)\n",
        "L = defaultdict(list)\n",
        "C = defaultdict(int)\n",
        "\n",
        "K1 = (\"m\", \"c\", \"b\")\n",
        "K2 = (\"m\", \"p\", \"j\")\n",
        "K3 = (\"m\", \"b\")\n",
        "K4 = (\"c\", \"j\")\n",
        "K5 = (\"m\", \"p\", \"b\")\n",
        "K6 = (\"m\", \"c\", \"b\", \"j\")\n",
        "K7 = (\"c\",\"b\",\"j\")\n",
        "K8 = (\"b\",\"c\")\n",
        "\n",
        "K = (K1 , K4 , K3 , K2 , K5 , K6 , K7 , K8)\n",
        "bucket_size_primary_hash = 10\n",
        "bucket_size_secondary_hash = 7"
      ],
      "metadata": {
        "id": "IARhA9y4fEVi"
      },
      "execution_count": null,
      "outputs": []
    },
    {
      "cell_type": "code",
      "source": [
        "def do_primary_hash(K) -> Counter:\n",
        "  '''Create combinations from values in bucket and hash them into buckets'''\n",
        "  for row in K:\n",
        "    for pair in combinations(row, 2):\n",
        "      pair = set(sorted(pair))\n",
        "      buckets[hash(tuple(pair)) % bucket_size_primary_hash].append(pair)\n",
        "      H1[hash(tuple(pair)) % bucket_size_primary_hash] += 1\n",
        "      #h zwraca wartosci z zakresu [0,1,2,3,4]\n",
        "  return H1, buckets\n",
        "\n",
        "def create_bitmap(hash_table, threshold):\n",
        "  ''' Convert the hash table into a bitmap '''\n",
        "  bit_map = []\n",
        "  for key, value in hash_table.items():\n",
        "    if value >= threshold:\n",
        "      bit_map.insert(key, 1)\n",
        "    else:\n",
        "      bit_map.insert(key, 0)\n",
        "  return bit_map\n",
        "\n",
        "def filter_buckets(bitmap, buckets):\n",
        "  ''' Filter values from bitmap, if value in bitmap is 1, continue work with value '''\n",
        "  small_buckets = []\n",
        "  for index, value in enumerate(bitmap):\n",
        "    if value == 1:\n",
        "      for b in buckets[index]:\n",
        "        small_buckets.append(b)\n",
        "        L[1] += b\n",
        "  return small_buckets, set(L[1])"
      ],
      "metadata": {
        "id": "O0KS6EUAttFy"
      },
      "execution_count": null,
      "outputs": []
    },
    {
      "cell_type": "code",
      "source": [
        "def find_candidate_for_deeper_layers(layer_number, L_set):\n",
        "  ''' Create list of candidates for deeper layers'''\n",
        "  C[layer_number] = []\n",
        "  for i, j in product(L_set, L_set):\n",
        "    i = set(i)\n",
        "    j = set(j)\n",
        "    if len(i.union(j)) == layer_number and i.union(j) not in C[layer_number]:\n",
        "      C[layer_number].append(i.union(j))\n",
        "  return  C[layer_number]\n",
        "  \n",
        "def do_secondary_hash(layer: int, C_set):\n",
        "  ''' Hash function for deeper layers (analogical to do_primary_hash)'''\n",
        "  H2 = Counter()\n",
        "  buckets = defaultdict(list)\n",
        "  for bucket in K:\n",
        "    for c in C_set:\n",
        "      if c.issubset(set(bucket)):\n",
        "        buckets[hash(tuple(c)) % bucket_size_secondary_hash].append(c)\n",
        "        H2[hash(tuple(c)) % bucket_size_secondary_hash]+=1\n",
        "  return buckets, H2\n",
        "\n",
        "def filter_deeper_buckets(bitmap2, small_buckets):\n",
        "  for index, value in enumerate(bitmap2):\n",
        "    if value == 1:\n",
        "     for b in buckets2[index]:\n",
        "       if b not in L[2] and b in small_buckets:\n",
        "          L[2].append(b)   \n",
        "  return L[2]"
      ],
      "metadata": {
        "id": "T1vwUuHTlzru"
      },
      "execution_count": null,
      "outputs": []
    },
    {
      "cell_type": "code",
      "source": [
        "# First layer\n",
        "# main function\n",
        "H1, buckets = do_primary_hash(K)\n",
        "print(H1)\n",
        "bitmap = create_bitmap(hash_table = H1, threshold=3)\n",
        "print(bitmap)\n",
        "small_buckets, L[1] = filter_buckets(bitmap, buckets)"
      ],
      "metadata": {
        "id": "tl5cQ3L9NxK6",
        "colab": {
          "base_uri": "https://localhost:8080/"
        },
        "outputId": "270e390b-15b3-423c-ec41-b09a6bcb5a40"
      },
      "execution_count": null,
      "outputs": [
        {
          "output_type": "stream",
          "name": "stdout",
          "text": [
            "defaultdict(<class 'int'>, {6: 2, 3: 7, 0: 8, 8: 2, 5: 1, 2: 1})\n",
            "[1, 0, 0, 1, 0, 0]\n"
          ]
        }
      ]
    },
    {
      "cell_type": "code",
      "source": [
        "# Secondary layer\n",
        "C[2] = find_candidate_for_deeper_layers(2, L[1])\n",
        "buckets2, H2 =  find_L_for_deeper_layers(2, C[2])\n",
        "bitmap2 = create_bitmap(H2, 3)\n",
        "print(H2)\n",
        "L[2] = filter_deeper_buckets(bitmap2, small_buckets)"
      ],
      "metadata": {
        "id": "mEXuWgBR5M1J",
        "colab": {
          "base_uri": "https://localhost:8080/"
        },
        "outputId": "91129d50-9656-4c61-8c62-740b0487e9e8"
      },
      "execution_count": null,
      "outputs": [
        {
          "output_type": "stream",
          "name": "stdout",
          "text": [
            "Counter({1: 4, 3: 4, 6: 4, 5: 3, 0: 2})\n"
          ]
        }
      ]
    },
    {
      "cell_type": "markdown",
      "source": [
        "PCY algotihm result:"
      ],
      "metadata": {
        "id": "Olbi_zNTb1zd"
      }
    },
    {
      "cell_type": "code",
      "source": [
        "L[2]"
      ],
      "metadata": {
        "colab": {
          "base_uri": "https://localhost:8080/"
        },
        "id": "5bkDdK16QYwa",
        "outputId": "ac3fdf20-ae3a-4ea3-e8c8-c1e1b029d477"
      },
      "execution_count": null,
      "outputs": [
        {
          "output_type": "execute_result",
          "data": {
            "text/plain": [
              "[{'b', 'c'}, {'b', 'm'}]"
            ]
          },
          "metadata": {},
          "execution_count": 147
        }
      ]
    }
  ]
}