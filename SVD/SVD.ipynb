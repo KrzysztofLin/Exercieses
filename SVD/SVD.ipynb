{
  "nbformat": 4,
  "nbformat_minor": 0,
  "metadata": {
    "colab": {
      "name": "Copy of EMBZ_15_SVD.ipynb",
      "provenance": [],
      "collapsed_sections": []
    },
    "kernelspec": {
      "name": "python3",
      "display_name": "Python 3"
    },
    "language_info": {
      "name": "python"
    }
  },
  "cells": [
    {
      "cell_type": "code",
      "source": [
        "import pandas as pd\n",
        "from scipy.spatial.distance import cosine\n",
        "import numpy as np\n",
        "import random"
      ],
      "metadata": {
        "id": "6Q01q1envMlj",
        "colab": {
          "base_uri": "https://localhost:8080/"
        },
        "outputId": "42cd0ae1-4cc3-4664-9172-e10ab2350b73"
      },
      "execution_count": null,
      "outputs": [
        {
          "output_type": "stream",
          "name": "stdout",
          "text": [
            "Mounted at /content/gdrive\n"
          ]
        }
      ]
    },
    {
      "cell_type": "markdown",
      "source": [
        "Read data from dataset. Choice of rows and columns used to create R matrix."
      ],
      "metadata": {
        "id": "cPHpots2tWIg"
      }
    },
    {
      "cell_type": "code",
      "source": [
        "netflix_table = pd.read_csv('netflix_2_set.txt', index_col=None, header=None)\n",
        "netflix_table.columns = ['movieId', 'userId', 'rating']\n",
        "columns = list(set(netflix_table['userId']))\n",
        "index = list(set(netflix_table['movieId']))\n",
        "\n",
        "columns = columns[:20]\n",
        "index = index[:50]"
      ],
      "metadata": {
        "id": "4HXjoOUDtPDr"
      },
      "execution_count": null,
      "outputs": []
    },
    {
      "cell_type": "code",
      "source": [
        "def create_R_matrix(netflix_table: pd.DataFrame) -> pd.DataFrame:\n",
        "  ''' function transform input dataset for proper R matrix. ''' \n",
        "  R = pd.DataFrame(columns=columns, index=index)\n",
        "            \n",
        "  for ind in index:\n",
        "    for col in columns:\n",
        "      try:\n",
        "        R.at[ind, col] = int(netflix_table.loc[(netflix_table['movieId'] == ind)\n",
        "        & (netflix_table['userId'] == col)]['rating'])\n",
        "      except:\n",
        "        pass\n",
        "  R = R.fillna(0)\n",
        "  return R"
      ],
      "metadata": {
        "colab": {
          "base_uri": "https://localhost:8080/",
          "height": 35
        },
        "id": "2FWNow3dtnSZ",
        "outputId": "de26c941-866f-478a-9d52-08e64ff66a75"
      },
      "execution_count": null,
      "outputs": [
        {
          "output_type": "execute_result",
          "data": {
            "text/plain": [
              "'\\n  for c in columns:\\n    for i in index:\\n      if R.at[i, c] == 0:\\n        if  np.random.random() < 0.3:\\n          R.at[i, c] = np.random.randint(5)+1\\n\\n  return R\\n'"
            ],
            "application/vnd.google.colaboratory.intrinsic+json": {
              "type": "string"
            }
          },
          "metadata": {},
          "execution_count": 11
        }
      ]
    },
    {
      "cell_type": "markdown",
      "source": [
        "# Recommendation system"
      ],
      "metadata": {
        "id": "Wv3D1fSmzIY7"
      }
    },
    {
      "cell_type": "code",
      "source": [
        "def error(R, P, Q):\n",
        "  ''' calulate error '''\n",
        "  err = 0\n",
        "  for x in range(len(R)):\n",
        "    for i in range(len(R[0])):\n",
        "      if R[x][i] > 0:\n",
        "        err = err + (R[x][i] - np.dot(P[x,:], Q[:,i]))**2\n",
        "  return err\n",
        "\n",
        "\n",
        "def factorize_matrix(R: np.array, K:int = 2, regularization: bool = True, alpha = 0.002, beta = 0.2, steps = 10000):\n",
        "  ''' SVD algorithm '''\n",
        "  N = len(R)\n",
        "  M = len(R[0])\n",
        "  P = np.random.rand(N, K)\n",
        "  Q = np.random.rand(K, M)\n",
        "  for st in range(steps):\n",
        "    for x in range(len(R)):\n",
        "      for i in range(len(R[0])):\n",
        "        if R[x][i] > 0:\n",
        "          Jxi = -2* (R[x][i]  - np.dot(P[x, :], Q[:, i])) \n",
        "          for k in range(K):\n",
        "            if regularization:\n",
        "              P[x][k] = P[x][k] - alpha * (Jxi* Q[k][i]* Q[k][i] + beta * P[x][k]) \n",
        "              Q[k][i] = Q[k][i] - alpha * (Jxi* P[x][k]* P[x][k] + beta * Q[k][i]) \n",
        "            else:\n",
        "              P[x][k] = P[x][k] - alpha * (Jxi* Q[k][i]* Q[k][i]) \n",
        "              Q[k][i] = Q[k][i] - alpha * (Jxi* P[x][k]* P[x][k])\n",
        "\n",
        "    if error(R, P, Q) < 0.06:\n",
        "      break\n",
        "      \n",
        "  return P, Q"
      ],
      "metadata": {
        "id": "XpOQoMUfxklg"
      },
      "execution_count": null,
      "outputs": []
    },
    {
      "cell_type": "code",
      "source": [
        "def compare_R_and_S_matrices(R: np.array, S: np.array) -> None:\n",
        "  ''' matrixies comparator, function to check norm only on known values'''\n",
        "  null_indexes = np.where(np.array(R) == 0)\n",
        "  nindx = zip(null_indexes[0], null_indexes[1])\n",
        "  print(nindx)\n",
        "  difference_between_matricies = 0.0\n",
        "  for ni in range(len(R)):\n",
        "    for nj in range(len(R[0])):\n",
        "      if (ni, nj) not in nindx:\n",
        "        difference_between_matricies += (R[ni][nj] - S[ni][nj])**2\n",
        "  return np.sqrt(difference_between_matricies)"
      ],
      "metadata": {
        "id": "8jke400_zxQ5"
      },
      "execution_count": null,
      "outputs": []
    },
    {
      "cell_type": "markdown",
      "source": [
        "Creation of the R matrix based on data, SVD factorization of the matrix, creation S - output matrix."
      ],
      "metadata": {
        "id": "hBHa3i8CzKXU"
      }
    },
    {
      "cell_type": "code",
      "source": [
        "R = create_R_matrix(netflix_table)\n",
        "R = R.to_numpy()"
      ],
      "metadata": {
        "id": "Y1gUN0JovAP1"
      },
      "execution_count": null,
      "outputs": []
    },
    {
      "cell_type": "code",
      "source": [
        "P, Q = factorize_matrix(R, K = 2, regularization = True, alpha = 0.002, beta = 0.2, steps = 10000)\n",
        "S = np.dot(P, Q)"
      ],
      "metadata": {
        "id": "1K0WCoBa2X4h"
      },
      "execution_count": null,
      "outputs": []
    },
    {
      "cell_type": "markdown",
      "source": [
        "Comparation of the matrcies R and S."
      ],
      "metadata": {
        "id": "FdTL80Jhmg3j"
      }
    },
    {
      "cell_type": "code",
      "source": [
        "print(np.linalg.norm((R, S))) # Frobenius norm            \n",
        "print(compare_R_and_S_matrices(R,S))"
      ],
      "metadata": {
        "id": "RjEjZzWD4o0U",
        "colab": {
          "base_uri": "https://localhost:8080/"
        },
        "outputId": "86a6504c-2701-421e-ed7c-9ef35555545d"
      },
      "execution_count": null,
      "outputs": [
        {
          "output_type": "stream",
          "name": "stdout",
          "text": [
            "<zip object at 0x7f1b48b4b5a0>\n",
            "23.095455178795206\n"
          ]
        }
      ]
    }
  ]
}