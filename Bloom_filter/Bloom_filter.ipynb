{
  "nbformat": 4,
  "nbformat_minor": 0,
  "metadata": {
    "colab": {
      "name": "EMBZ_zd7_15.03.2022.ipynb",
      "provenance": [],
      "collapsed_sections": []
    },
    "kernelspec": {
      "name": "python3",
      "display_name": "Python 3"
    },
    "language_info": {
      "name": "python"
    }
  },
  "cells": [
    {
      "cell_type": "markdown",
      "source": [
        "#Bloom filter"
      ],
      "metadata": {
        "id": "wuLHsCit20_O"
      }
    },
    {
      "cell_type": "code",
      "source": [
        "!pip install bitarray\n",
        "!pip install mmh3\n",
        "from bitarray import bitarray \n",
        "import mmh3\n",
        "import hashlib\n",
        "\n",
        "animals = ['dog', 'cat', 'giraffe', 'fly', 'mosquito', 'horse', 'eagle',\n",
        "           'bird', 'bison', 'boar', 'butterfly', 'ant', 'anaconda', 'bear',\n",
        "           'chicken', 'dolphin', 'donkey', 'crow', 'crocodile']\n",
        "\n",
        "other_animals = ['badger', 'cow', 'pig', 'sheep', 'bee', 'wolf', 'fox',\n",
        "                 'whale', 'shark', 'fish', 'turkey', 'duck', 'dove',\n",
        "                 'deer', 'elephant', 'frog', 'falcon', 'goat', 'gorilla',\n",
        "                 'hawk', 'bison' ]\n",
        "\n",
        "data = animals+other_animals"
      ],
      "metadata": {
        "id": "MSopgi8j23et",
        "colab": {
          "base_uri": "https://localhost:8080/"
        },
        "outputId": "ebcca85d-8dd6-4395-c3e0-2ae7d6b0f272"
      },
      "execution_count": null,
      "outputs": [
        {
          "output_type": "stream",
          "name": "stdout",
          "text": [
            "Collecting bitarray\n",
            "  Downloading bitarray-2.5.1-cp37-cp37m-manylinux_2_17_x86_64.manylinux2014_x86_64.whl (236 kB)\n",
            "\u001b[?25l\r\u001b[K     |█▍                              | 10 kB 20.4 MB/s eta 0:00:01\r\u001b[K     |██▊                             | 20 kB 7.2 MB/s eta 0:00:01\r\u001b[K     |████▏                           | 30 kB 4.9 MB/s eta 0:00:01\r\u001b[K     |█████▌                          | 40 kB 4.9 MB/s eta 0:00:01\r\u001b[K     |███████                         | 51 kB 4.2 MB/s eta 0:00:01\r\u001b[K     |████████▎                       | 61 kB 4.9 MB/s eta 0:00:01\r\u001b[K     |█████████▊                      | 71 kB 5.6 MB/s eta 0:00:01\r\u001b[K     |███████████                     | 81 kB 5.0 MB/s eta 0:00:01\r\u001b[K     |████████████▌                   | 92 kB 5.6 MB/s eta 0:00:01\r\u001b[K     |█████████████▉                  | 102 kB 6.1 MB/s eta 0:00:01\r\u001b[K     |███████████████▏                | 112 kB 6.1 MB/s eta 0:00:01\r\u001b[K     |████████████████▋               | 122 kB 6.1 MB/s eta 0:00:01\r\u001b[K     |██████████████████              | 133 kB 6.1 MB/s eta 0:00:01\r\u001b[K     |███████████████████▍            | 143 kB 6.1 MB/s eta 0:00:01\r\u001b[K     |████████████████████▊           | 153 kB 6.1 MB/s eta 0:00:01\r\u001b[K     |██████████████████████▏         | 163 kB 6.1 MB/s eta 0:00:01\r\u001b[K     |███████████████████████▌        | 174 kB 6.1 MB/s eta 0:00:01\r\u001b[K     |█████████████████████████       | 184 kB 6.1 MB/s eta 0:00:01\r\u001b[K     |██████████████████████████▎     | 194 kB 6.1 MB/s eta 0:00:01\r\u001b[K     |███████████████████████████▊    | 204 kB 6.1 MB/s eta 0:00:01\r\u001b[K     |█████████████████████████████   | 215 kB 6.1 MB/s eta 0:00:01\r\u001b[K     |██████████████████████████████▍ | 225 kB 6.1 MB/s eta 0:00:01\r\u001b[K     |███████████████████████████████▉| 235 kB 6.1 MB/s eta 0:00:01\r\u001b[K     |████████████████████████████████| 236 kB 6.1 MB/s \n",
            "\u001b[?25hInstalling collected packages: bitarray\n",
            "Successfully installed bitarray-2.5.1\n",
            "Collecting mmh3\n",
            "  Downloading mmh3-3.0.0-cp37-cp37m-manylinux2010_x86_64.whl (50 kB)\n",
            "\u001b[K     |████████████████████████████████| 50 kB 4.9 MB/s \n",
            "\u001b[?25hInstalling collected packages: mmh3\n",
            "Successfully installed mmh3-3.0.0\n"
          ]
        }
      ]
    },
    {
      "cell_type": "code",
      "source": [
        "class BloomFilter():\n",
        "  def __init__(self, size, hash_count):\n",
        "    self.size = size\n",
        "    self.hash_count = hash_count\n",
        "    self.bit_array = bitarray(self.size)\n",
        "    self.bit_array.setall(0)\n",
        "    \n",
        "  def add(self, item):\n",
        "    for i in range(self.hash_count):\n",
        "      item = str(item) + str(i)\n",
        "      index = int.from_bytes(hashlib.md5(item.encode()).digest(), 'big')%self.size  #ity hash jest generowany za pomocą seed-u 'i'\n",
        "      self.bit_array[index] = 1\n",
        "\n",
        "\n",
        "  def contain(self, item):\n",
        "    out = True\n",
        "    for i in range(self.hash_count):\n",
        "      item = str(item) + str(i)\n",
        "      index = int.from_bytes(hashlib.md5(item.encode()).digest(), 'big')%self.size #ity hash jest generowany za pomocą seed-u 'i'\n",
        "      if self.bit_array[index] == 0:\n",
        "        out = False\n",
        "    return out"
      ],
      "metadata": {
        "id": "9743_DIW26Zn"
      },
      "execution_count": null,
      "outputs": []
    },
    {
      "cell_type": "code",
      "source": [
        "def check_animal(data_for_bloom_filter, animal_to_check):\n",
        "  if bf.contain(animal_to_check) == True and animal_to_check not in data_for_bloom_filter:\n",
        "    return 1\n",
        "  else:\n",
        "    return 0"
      ],
      "metadata": {
        "id": "pfPnStAqiq10"
      },
      "execution_count": null,
      "outputs": []
    },
    {
      "cell_type": "code",
      "source": [
        "def parameters():\n",
        "  main_loop_range = 20\n",
        "  sub_loop_range = 20\n",
        "  bloom_filter_size = 100\n",
        "  bloom_filter_hash_count = 10\n",
        "  sample_size_for_data_for_bloom_filter = 20\n",
        "  sample_size_for_data_to_check = 30\n",
        "  return main_loop_range, sub_loop_range, bloom_filter_size, bloom_filter_hash_count, sample_size_for_data_for_bloom_filter, sample_size_for_data_to_check\n"
      ],
      "metadata": {
        "id": "OsZgNGNNOJoU"
      },
      "execution_count": null,
      "outputs": []
    },
    {
      "cell_type": "code",
      "source": [
        "from random import randint, sample\n",
        "\n",
        "FNcounter_list = []\n",
        "FN_counter = 0\n",
        "[main_loop_range, sub_loop_range, bloom_filter_size, bloom_filter_hash_count, sample_size_for_data_for_bloom_filter, sample_size_for_data_to_check] = [20, 20, 100, 10, 20, 30]\n",
        "\n",
        "for main_loop in range(main_loop_range): #dajemy losowanie by za kazdym razem było inaczej\n",
        "  avg_FN_num = 0\n",
        "  bf = BloomFilter(bloom_filter_size, bloom_filter_hash_count)\n",
        "  data_for_bloom_filter = sample(data, k = sample_size_for_data_for_bloom_filter)\n",
        "  [bf.add(element) for element in data_for_bloom_filter]\n",
        "\n",
        "\n",
        "  for sub_loop in range(sub_loop_range):\n",
        "    FNcounter = 0\n",
        "    data_to_check = sample(data, k = sample_size_for_data_to_check)\n",
        "    for animal_to_check in data_to_check:\n",
        "     FNcounter += check_animal(data_for_bloom_filter, animal_to_check) \n",
        "    avg_FN_num += FNcounter\n",
        "\n",
        "  avg_FN_num = round(avg_FN_num/sample_size_for_data_to_check)\n",
        "  FNcounter_list.append((main_loop, avg_FN_num))\n",
        "  FN_counter += avg_FN_num\n",
        "\n",
        "print(FNcounter_list)\n",
        "print(FN_counter/main_loop_range)"
      ],
      "metadata": {
        "id": "oLPO9PjdjnPE",
        "colab": {
          "base_uri": "https://localhost:8080/"
        },
        "outputId": "39ac6fcd-62a7-4c0b-b3ca-4f12cde049f8"
      },
      "execution_count": null,
      "outputs": [
        {
          "output_type": "stream",
          "name": "stdout",
          "text": [
            "[(0, 1), (1, 3), (2, 3), (3, 2), (4, 2), (5, 2), (6, 2), (7, 2), (8, 2), (9, 3), (10, 5), (11, 1), (12, 2), (13, 4), (14, 3), (15, 4), (16, 2), (17, 2), (18, 2), (19, 3)]\n",
            "2.5\n"
          ]
        }
      ]
    },
    {
      "cell_type": "markdown",
      "source": [
        "Conclusions:\n",
        "For individual loops with the posted parameters, the following conclusions were obtained:\n",
        "[main_loop_range, sub_loop_range, bloom_filter_size, bloom_filter_hash_count, sample_size_for_data_for_bloom_filter, sample_size_for_data_to_check]\n",
        "0. [20, 20, 100, 10, 10, 30] Practically no false positives (change in sample_size_for_data_for_bloom_filter count) - initial sample\n",
        "1. [20, 20, 100, 10, 20, 30] Relatively small number of FN on average 2.05 (change in sample_size_for_data_for_bloom_filter)\n",
        "2. [20, 20, 100, 10, 10, 10] Changing the value of sample_size_for_data_to_check has no effect on FN,\n",
        "3. [20, 20, 100, 20, 10, 30] Avg = 0.5-1 Changing the number of hashes affects the average\n",
        "4. [20, 20, 500, 10, 10, 30] Increasing the size of the binary array (affects FN reduction)\n",
        "\n",
        "\n",
        "\n",
        "Final conclusions:\n",
        "- increasing the number of available hashes has a negative effect (an increase in FN is observed)\n",
        "- increasing the size of the binary array (affects the FN reductions)\n",
        "- changing the value of sample_size_for_data_to_check has no effect on FN\n",
        "\n",
        "Translated with www.DeepL.com/Translator (free version)"
      ],
      "metadata": {
        "id": "grv_PWDiWA0O"
      }
    },
    {
      "cell_type": "code",
      "source": [
        ""
      ],
      "metadata": {
        "id": "CWSpkt5nRa3_"
      },
      "execution_count": null,
      "outputs": []
    }
  ]
}